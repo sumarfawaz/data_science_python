{
 "cells": [
  {
   "cell_type": "markdown",
   "id": "1feaff6b-a547-418a-bc96-69656fcfaaf6",
   "metadata": {},
   "source": [
    "# Basics of Python\n"
   ]
  },
  {
   "cell_type": "markdown",
   "id": "b426307b-0157-4093-9faa-8573f5cb26c4",
   "metadata": {},
   "source": [
    "## Boolean Variables"
   ]
  },
  {
   "cell_type": "code",
   "execution_count": 65,
   "id": "72bd9b78-d3d7-45c5-8239-c43ebdbf2fcb",
   "metadata": {},
   "outputs": [],
   "source": [
    "str = \"SumarFawaz123\""
   ]
  },
  {
   "cell_type": "code",
   "execution_count": 69,
   "id": "26492ea9-7219-4b8b-81f1-825d046a3185",
   "metadata": {},
   "outputs": [
    {
     "name": "stdout",
     "output_type": "stream",
     "text": [
      "True\n",
      "False\n",
      "False\n",
      "False\n",
      "False\n",
      "False\n",
      "False\n",
      "False\n",
      "True\n"
     ]
    }
   ],
   "source": [
    "print(str.isalnum()) #returns true if the variable has numerics and alphabets but shouldn't have a space between words\n",
    "print(str.isalpha()) #returns true if the variable has only strings\n",
    "print(str.isdigit()) #returns true if the variable has digits\n",
    "print(str.istitle()) #returns true if the the variable has title words [ first character in every word is upper case]\n",
    "print(str.isupper()) #returns true if all the words are in upper case\n",
    "print(str.islower()) #returns true if all the words are in lower case\n",
    "print(str.isspace()) #returns true if there are spaces in the word\n",
    "print(str.endswith('z')) #returns true if the word ends with the parsed letter (Case Sensitive)\n",
    "print(str.startswith('S')) #returns true if the word starts with the parsed letter (Case Sensitive)"
   ]
  },
  {
   "cell_type": "markdown",
   "id": "fd50ca3f-05a5-49fa-a014-8e18a203af13",
   "metadata": {},
   "source": [
    "## Boolean and Logical Operators"
   ]
  },
  {
   "cell_type": "code",
   "execution_count": 72,
   "id": "a0b40bcf-1247-49aa-b415-b1e342ae61bd",
   "metadata": {},
   "outputs": [
    {
     "data": {
      "text/plain": [
       "True"
      ]
     },
     "execution_count": 72,
     "metadata": {},
     "output_type": "execute_result"
    }
   ],
   "source": [
    "True and True"
   ]
  },
  {
   "cell_type": "code",
   "execution_count": 74,
   "id": "b9ce0fe5-7454-40f1-a695-8cf3ba0629d2",
   "metadata": {},
   "outputs": [
    {
     "data": {
      "text/plain": [
       "False"
      ]
     },
     "execution_count": 74,
     "metadata": {},
     "output_type": "execute_result"
    }
   ],
   "source": [
    "True and False"
   ]
  },
  {
   "cell_type": "code",
   "execution_count": 76,
   "id": "b49e20b2-ed5c-4225-af08-baa2dd70506b",
   "metadata": {},
   "outputs": [
    {
     "data": {
      "text/plain": [
       "True"
      ]
     },
     "execution_count": 76,
     "metadata": {},
     "output_type": "execute_result"
    }
   ],
   "source": [
    "True or False"
   ]
  },
  {
   "cell_type": "code",
   "execution_count": 78,
   "id": "c525a77b-035a-448e-ba8d-cd525cd8fec4",
   "metadata": {},
   "outputs": [
    {
     "data": {
      "text/plain": [
       "True"
      ]
     },
     "execution_count": 78,
     "metadata": {},
     "output_type": "execute_result"
    }
   ],
   "source": [
    "True or True"
   ]
  },
  {
   "cell_type": "code",
   "execution_count": 80,
   "id": "d74ecb18-cf39-44de-9aff-189aac34de4c",
   "metadata": {},
   "outputs": [
    {
     "data": {
      "text/plain": [
       "False"
      ]
     },
     "execution_count": 80,
     "metadata": {},
     "output_type": "execute_result"
    }
   ],
   "source": [
    "False or False"
   ]
  },
  {
   "cell_type": "markdown",
   "id": "df7e5283-ac6f-4250-8d95-76a30961f4a0",
   "metadata": {},
   "source": [
    "## Lists in Python\n",
    "- Lists are defined within square brackets [] which are changeable, mutable and can contain a mixture of data types. A list can be written using Commas Seperated Values. List is a class in Python."
   ]
  },
  {
   "cell_type": "code",
   "execution_count": 83,
   "id": "83f95acf-1adc-4cd9-80c9-70c0b9b42998",
   "metadata": {},
   "outputs": [
    {
     "data": {
      "text/plain": [
       "list"
      ]
     },
     "execution_count": 83,
     "metadata": {},
     "output_type": "execute_result"
    }
   ],
   "source": [
    "type([])"
   ]
  },
  {
   "cell_type": "code",
   "execution_count": 1,
   "id": "157bd6d7-9cc0-4111-bf4d-2618c2aab0db",
   "metadata": {},
   "outputs": [
    {
     "name": "stdout",
     "output_type": "stream",
     "text": [
      "<class 'list'>\n",
      "<class 'list'>\n",
      "['English', 'Sumar', 100, 1000, 10000]\n"
     ]
    },
    {
     "data": {
      "text/plain": [
       "['English', 'Sumar', 100, 1000, 10000]"
      ]
     },
     "execution_count": 1,
     "metadata": {},
     "output_type": "execute_result"
    }
   ],
   "source": [
    "lst_example = [] # First way of defining a list\n",
    "print(type(lst_example))\n",
    "\n",
    "lst = list() # Inbuilt way of using list() method to create a list\n",
    "print(type(lst))\n",
    "\n",
    "lst = [\"English\",\"Sumar\",100,1000,10000] # Parsing Values into List\n",
    "print(lst) # Print all values in a list just by using print() method \n",
    "lst # or just call it"
   ]
  },
  {
   "cell_type": "code",
   "execution_count": 115,
   "id": "3b8deae3-b4d9-46ae-b6a6-4a60f0295a62",
   "metadata": {},
   "outputs": [
    {
     "name": "stdout",
     "output_type": "stream",
     "text": [
      "Total Length of the list 5\n"
     ]
    }
   ],
   "source": [
    "len(lst) # Prints the number of elements inside list or any other variable\n",
    "\n",
    "print(\"Total Length of the list {length}\".format(length=len(lst)))"
   ]
  },
  {
   "cell_type": "markdown",
   "id": "a80fd925-ec71-48c0-a964-16ebae28e65c",
   "metadata": {},
   "source": [
    "### Inbuilt Functions in List"
   ]
  },
  {
   "cell_type": "code",
   "execution_count": 118,
   "id": "8b537333-0229-40f6-9387-265d9f3a9955",
   "metadata": {},
   "outputs": [],
   "source": [
    "lst.append(\"Sumar added to the end of the list\") #append adds elements to the end of the list"
   ]
  },
  {
   "cell_type": "code",
   "execution_count": 122,
   "id": "b50c5da9-44fc-4457-8ad5-316b287d8c0d",
   "metadata": {},
   "outputs": [
    {
     "name": "stdout",
     "output_type": "stream",
     "text": [
      "['English', 'Sumar', 100, 1000, 10000, 'Sumar added to the end of the list']\n"
     ]
    }
   ],
   "source": [
    "print(lst)"
   ]
  },
  {
   "cell_type": "code",
   "execution_count": 124,
   "id": "fb115dbb-6432-4b57-ac77-6acf017c1932",
   "metadata": {},
   "outputs": [
    {
     "data": {
      "text/plain": [
       "'Sumar'"
      ]
     },
     "execution_count": 124,
     "metadata": {},
     "output_type": "execute_result"
    }
   ],
   "source": [
    "lst[1] # Accessing specific elements from the List"
   ]
  },
  {
   "cell_type": "code",
   "execution_count": 130,
   "id": "a0a26cec-3810-4a37-a185-d69c01dc088e",
   "metadata": {},
   "outputs": [
    {
     "data": {
      "text/plain": [
       "[100, 1000, 10000, 'Sumar added to the end of the list']"
      ]
     },
     "execution_count": 130,
     "metadata": {},
     "output_type": "execute_result"
    }
   ],
   "source": [
    "lst[2:] # Accessing elements in the List from a Range lst[from index:last index]"
   ]
  },
  {
   "cell_type": "code",
   "execution_count": 134,
   "id": "501ef14b-abac-4c25-ad48-afd0812c61ad",
   "metadata": {},
   "outputs": [
    {
     "data": {
      "text/plain": [
       "['Sumar', 100]"
      ]
     },
     "execution_count": 134,
     "metadata": {},
     "output_type": "execute_result"
    }
   ],
   "source": [
    "lst[1:3]"
   ]
  },
  {
   "cell_type": "code",
   "execution_count": 136,
   "id": "4a68b868-7ef5-4d0a-9f4d-6073c336dcab",
   "metadata": {},
   "outputs": [],
   "source": [
    "lst.append([\"Hello\", \"World\"]) # Creating Nested Lists"
   ]
  },
  {
   "cell_type": "code",
   "execution_count": 138,
   "id": "cd4eae66-7d1d-47cc-a5c1-55b63d189608",
   "metadata": {},
   "outputs": [
    {
     "name": "stdout",
     "output_type": "stream",
     "text": [
      "['English', 'Sumar', 100, 1000, 10000, 'Sumar added to the end of the list', ['Hello', 'World']]\n"
     ]
    }
   ],
   "source": [
    "print(lst)"
   ]
  },
  {
   "cell_type": "markdown",
   "id": "700c458b-2b27-479d-91af-d5223be91bd2",
   "metadata": {},
   "source": [
    "### Insert\n",
    "- Adds Elements to Specific Index in the List"
   ]
  },
  {
   "cell_type": "markdown",
   "id": "a76e1ce3-4541-4a13-bbe9-726da1efcb83",
   "metadata": {},
   "source": [
    "lst.insert(0,\"Added to front of list\") # Used to enter elements to specific indexes"
   ]
  },
  {
   "cell_type": "code",
   "execution_count": 143,
   "id": "f5473268-155f-4e54-94bc-61a5cf026a61",
   "metadata": {},
   "outputs": [
    {
     "data": {
      "text/plain": [
       "['Added to front of list',\n",
       " 'English',\n",
       " 'Sumar',\n",
       " 100,\n",
       " 1000,\n",
       " 10000,\n",
       " 'Sumar added to the end of the list',\n",
       " ['Hello', 'World']]"
      ]
     },
     "execution_count": 143,
     "metadata": {},
     "output_type": "execute_result"
    }
   ],
   "source": [
    "lst"
   ]
  },
  {
   "cell_type": "markdown",
   "id": "fdc571e3-3eaf-4ad9-8ad9-c1043d9f4e77",
   "metadata": {},
   "source": [
    "### Extend \n",
    "- Adds elements to the end of the list without nesting with multiple values"
   ]
  },
  {
   "cell_type": "code",
   "execution_count": 152,
   "id": "3d50a9ec-b7a2-4c6a-9557-71b2f1b9ddcb",
   "metadata": {},
   "outputs": [],
   "source": [
    "lst.extend([10,15]) # Parsing values inside curly braces"
   ]
  },
  {
   "cell_type": "code",
   "execution_count": 156,
   "id": "5153d888-6272-4e40-aeca-d3e6e4adb816",
   "metadata": {},
   "outputs": [
    {
     "data": {
      "text/plain": [
       "['Added to front of list',\n",
       " 'English',\n",
       " 'Sumar',\n",
       " 100,\n",
       " 1000,\n",
       " 10000,\n",
       " 'Sumar added to the end of the list',\n",
       " ['Hello', 'World'],\n",
       " 10,\n",
       " 15,\n",
       " 10,\n",
       " 15]"
      ]
     },
     "execution_count": 156,
     "metadata": {},
     "output_type": "execute_result"
    }
   ],
   "source": [
    "lst"
   ]
  },
  {
   "cell_type": "markdown",
   "id": "60932ef4-945c-42f5-9b6d-88a9525b12b8",
   "metadata": {},
   "source": [
    "### Operations on Lists"
   ]
  },
  {
   "cell_type": "code",
   "execution_count": 159,
   "id": "63e62773-3cd3-4490-a763-8a144aa38d4d",
   "metadata": {},
   "outputs": [],
   "source": [
    "lst = [1,2,3,4,5,6]"
   ]
  },
  {
   "cell_type": "code",
   "execution_count": 161,
   "id": "39c3466c-2642-450c-a268-6ebe58fc6c69",
   "metadata": {},
   "outputs": [
    {
     "data": {
      "text/plain": [
       "21"
      ]
     },
     "execution_count": 161,
     "metadata": {},
     "output_type": "execute_result"
    }
   ],
   "source": [
    "sum(lst)"
   ]
  },
  {
   "cell_type": "markdown",
   "id": "7a7032d6-4577-4e2d-b9d1-b0263fa455ce",
   "metadata": {},
   "source": [
    "### Pop() Method\n",
    "- Removes the Last element by default if not specified"
   ]
  },
  {
   "cell_type": "code",
   "execution_count": 164,
   "id": "87fa5b17-92c1-48f4-ac5a-077e9da01026",
   "metadata": {},
   "outputs": [
    {
     "data": {
      "text/plain": [
       "6"
      ]
     },
     "execution_count": 164,
     "metadata": {},
     "output_type": "execute_result"
    }
   ],
   "source": [
    "lst.pop()"
   ]
  },
  {
   "cell_type": "code",
   "execution_count": 169,
   "id": "97577616-fbed-4f67-94e0-a20b287460e6",
   "metadata": {},
   "outputs": [
    {
     "data": {
      "text/plain": [
       "2"
      ]
     },
     "execution_count": 169,
     "metadata": {},
     "output_type": "execute_result"
    }
   ],
   "source": [
    "lst.pop(0) # Removes 0th element"
   ]
  },
  {
   "cell_type": "code",
   "execution_count": 171,
   "id": "b395c7e9-1bf4-46ce-9473-7930e293c1c4",
   "metadata": {},
   "outputs": [
    {
     "data": {
      "text/plain": [
       "[3, 4, 5]"
      ]
     },
     "execution_count": 171,
     "metadata": {},
     "output_type": "execute_result"
    }
   ],
   "source": [
    "lst"
   ]
  },
  {
   "cell_type": "code",
   "execution_count": 175,
   "id": "6f153232-370c-45ca-be6f-44c9534eff05",
   "metadata": {},
   "outputs": [],
   "source": [
    "lst.extend([5])"
   ]
  },
  {
   "cell_type": "code",
   "execution_count": 177,
   "id": "09de65cf-fcaa-4ba1-a832-d7118a806bcf",
   "metadata": {},
   "outputs": [
    {
     "data": {
      "text/plain": [
       "[3, 4, 5, 5]"
      ]
     },
     "execution_count": 177,
     "metadata": {},
     "output_type": "execute_result"
    }
   ],
   "source": [
    "lst"
   ]
  },
  {
   "cell_type": "markdown",
   "id": "49b3f5ad-6a37-439a-94d3-e7165b6bf542",
   "metadata": {},
   "source": [
    "### Counts total occurence of a given element within the list"
   ]
  },
  {
   "cell_type": "code",
   "execution_count": 180,
   "id": "a448d8d6-6556-4c3e-be46-9059dad2dbcf",
   "metadata": {},
   "outputs": [
    {
     "data": {
      "text/plain": [
       "2"
      ]
     },
     "execution_count": 180,
     "metadata": {},
     "output_type": "execute_result"
    }
   ],
   "source": [
    "lst.count(5)"
   ]
  },
  {
   "cell_type": "markdown",
   "id": "d1c51fab-2238-497c-8b65-45c83c0b877e",
   "metadata": {},
   "source": [
    "### index() method"
   ]
  },
  {
   "cell_type": "code",
   "execution_count": 187,
   "id": "ec1d8439-9755-41f0-a3d6-f464a133fcb6",
   "metadata": {},
   "outputs": [
    {
     "data": {
      "text/plain": [
       "1"
      ]
     },
     "execution_count": 187,
     "metadata": {},
     "output_type": "execute_result"
    }
   ],
   "source": [
    "lst.index(4,0,3) # Finds the index of the parsed element which is the first parameter, \n",
    "                 #2nd and 3rd parameters are the start and end elements in the list"
   ]
  },
  {
   "cell_type": "markdown",
   "id": "b23ad02d-f88f-4e16-99c7-fbf63bd80ac7",
   "metadata": {},
   "source": [
    "### min() and max() methods"
   ]
  },
  {
   "cell_type": "code",
   "execution_count": 194,
   "id": "83f3ac1c-5b29-48f8-9bcd-c2dabb6e8b4f",
   "metadata": {},
   "outputs": [
    {
     "data": {
      "text/plain": [
       "3"
      ]
     },
     "execution_count": 194,
     "metadata": {},
     "output_type": "execute_result"
    }
   ],
   "source": [
    "min(lst) # Lowest Value in the list"
   ]
  },
  {
   "cell_type": "code",
   "execution_count": 196,
   "id": "d3e3a61d-043d-4fdd-ab2d-e1637c7fa004",
   "metadata": {},
   "outputs": [
    {
     "data": {
      "text/plain": [
       "5"
      ]
     },
     "execution_count": 196,
     "metadata": {},
     "output_type": "execute_result"
    }
   ],
   "source": [
    "max(lst) # Highest Value in the list"
   ]
  },
  {
   "cell_type": "markdown",
   "id": "f56de51a-251d-4967-a4f1-3bbae0544d6e",
   "metadata": {},
   "source": [
    "## SETS\n",
    "- A Set is an unordered collection data type that is iterable, mutable, and has no duplicate elements. Python's set class is build upon the fundamentals of mathematical set theory. It is build using the Hash Table data structure."
   ]
  },
  {
   "cell_type": "code",
   "execution_count": 2,
   "id": "e77d5557-8358-47a1-a893-5a3aee0b76aa",
   "metadata": {},
   "outputs": [
    {
     "name": "stdout",
     "output_type": "stream",
     "text": [
      "set()\n",
      "<class 'set'>\n"
     ]
    }
   ],
   "source": [
    "## Defining an empty Set\n",
    "\n",
    "set_var = set()\n",
    "print(set())\n",
    "print(type(set_var))"
   ]
  },
  {
   "cell_type": "code",
   "execution_count": 4,
   "id": "95e45ac7-78b4-46f5-90e2-419daac98672",
   "metadata": {},
   "outputs": [],
   "source": [
    "# Set in Python ignores or removes duplicates \n",
    "set_var = {1,2,3,4,3}"
   ]
  },
  {
   "cell_type": "code",
   "execution_count": 6,
   "id": "35492b0a-ae03-46b5-b8ff-2d0cf4340f81",
   "metadata": {},
   "outputs": [
    {
     "name": "stdout",
     "output_type": "stream",
     "text": [
      "{1, 2, 3, 4}\n"
     ]
    }
   ],
   "source": [
    "print(set_var)"
   ]
  },
  {
   "cell_type": "markdown",
   "id": "0abe2d16-69e5-4fb9-af89-6a862f459f45",
   "metadata": {},
   "source": [
    "### Inbuilt Functions In Sets"
   ]
  },
  {
   "cell_type": "code",
   "execution_count": 9,
   "id": "86d37e24-fd82-4038-b85f-7bd6efaa0840",
   "metadata": {},
   "outputs": [
    {
     "name": "stdout",
     "output_type": "stream",
     "text": [
      "{1, 2, 3, 4, 'Hulk'}\n"
     ]
    }
   ],
   "source": [
    "## Inbuilt function for adding values to the set \n",
    "set_var.add(\"Hulk\")\n",
    "print(set_var)"
   ]
  },
  {
   "cell_type": "code",
   "execution_count": 11,
   "id": "fc012e75-1f2e-48a8-a2de-b245dbf143fd",
   "metadata": {},
   "outputs": [],
   "source": [
    "## Set Functions \n",
    "\n",
    "set1={\"Avengers\",\"Ironman\",\"Hitman\"}\n",
    "set2={\"Avengers\",\"Ironman\",\"Hitman\",\"Hulk2\"}"
   ]
  },
  {
   "cell_type": "code",
   "execution_count": 15,
   "id": "15cb0872-d0aa-4a87-a8ac-f5de227ab92f",
   "metadata": {},
   "outputs": [
    {
     "data": {
      "text/plain": [
       "{'Avengers', 'Hitman', 'Ironman'}"
      ]
     },
     "execution_count": 15,
     "metadata": {},
     "output_type": "execute_result"
    }
   ],
   "source": [
    "# intersection function - Gets the common elements in both the sets \n",
    "set2.intersection(set1)"
   ]
  },
  {
   "cell_type": "code",
   "execution_count": 21,
   "id": "9686240b-a729-4e4d-b576-57f5b9166195",
   "metadata": {},
   "outputs": [],
   "source": [
    "# intersection.update function - Gets rid of the element that is not common for both\n",
    "set2.intersection_update(set1)"
   ]
  },
  {
   "cell_type": "code",
   "execution_count": 29,
   "id": "478dc69a-63dd-4dd5-b37b-cd1f4426b031",
   "metadata": {},
   "outputs": [
    {
     "data": {
      "text/plain": [
       "{'Avengers', 'Hitman', 'Ironman'}"
      ]
     },
     "execution_count": 29,
     "metadata": {},
     "output_type": "execute_result"
    }
   ],
   "source": [
    "set2"
   ]
  },
  {
   "cell_type": "code",
   "execution_count": 31,
   "id": "22cab5f4-02f2-42b3-a89d-b66fc26fc1aa",
   "metadata": {},
   "outputs": [
    {
     "data": {
      "text/plain": [
       "set()"
      ]
     },
     "execution_count": 31,
     "metadata": {},
     "output_type": "execute_result"
    }
   ],
   "source": [
    "# Difference Function - Gets the value that is not common in both the sets\n",
    "set2.difference(set1)"
   ]
  },
  {
   "cell_type": "code",
   "execution_count": 33,
   "id": "e9daf76d-fa83-429b-9079-ec8ee48d0b38",
   "metadata": {},
   "outputs": [
    {
     "data": {
      "text/plain": [
       "{'Avengers', 'Hitman', 'Ironman'}"
      ]
     },
     "execution_count": 33,
     "metadata": {},
     "output_type": "execute_result"
    }
   ],
   "source": [
    "set2"
   ]
  },
  {
   "cell_type": "markdown",
   "id": "4012c3da-2498-4c13-ae63-b916d104cf78",
   "metadata": {},
   "source": [
    "## DICTIONARIES\n",
    "- A dictionary is a collection which is unordered, changeable and indexed. In python dictionaries are written with curly brackers, and they have keys and values."
   ]
  },
  {
   "cell_type": "code",
   "execution_count": 37,
   "id": "7ce5d2ea-69a5-41c3-a354-bd4afd8d7718",
   "metadata": {},
   "outputs": [],
   "source": [
    "# Defining Dictionary using {} \n",
    "dic = {}"
   ]
  },
  {
   "cell_type": "code",
   "execution_count": 39,
   "id": "b7227959-ef2d-44f3-8a7a-86d174840910",
   "metadata": {},
   "outputs": [
    {
     "data": {
      "text/plain": [
       "dict"
      ]
     },
     "execution_count": 39,
     "metadata": {},
     "output_type": "execute_result"
    }
   ],
   "source": [
    "type(dic)"
   ]
  },
  {
   "cell_type": "code",
   "execution_count": 41,
   "id": "d69165fb-8a2e-46f7-bb05-8b2c4668f530",
   "metadata": {},
   "outputs": [],
   "source": [
    "## Creating a dictionary \n",
    "\n",
    "## Creating a dictionary is possible with the inbuilt dict() function \n",
    "\n",
    "my_dictionary = {\"Car1\":\"Audi\",\"Car2\":\"BMW\",\"Car3\":\"Benz\"}"
   ]
  },
  {
   "cell_type": "code",
   "execution_count": 43,
   "id": "faeccab3-2203-4231-b382-f6d5d4fe39f1",
   "metadata": {},
   "outputs": [
    {
     "data": {
      "text/plain": [
       "dict"
      ]
     },
     "execution_count": 43,
     "metadata": {},
     "output_type": "execute_result"
    }
   ],
   "source": [
    "type(my_dictionary)"
   ]
  },
  {
   "cell_type": "code",
   "execution_count": 45,
   "id": "dc4c0373-3b90-4971-b7ff-11c32e73f4ad",
   "metadata": {},
   "outputs": [
    {
     "data": {
      "text/plain": [
       "'Audi'"
      ]
     },
     "execution_count": 45,
     "metadata": {},
     "output_type": "execute_result"
    }
   ],
   "source": [
    "## Accessing item values based on keys \n",
    "my_dictionary['Car1']"
   ]
  },
  {
   "cell_type": "code",
   "execution_count": 51,
   "id": "fe30b710-cb67-4421-bfe8-92775d128518",
   "metadata": {},
   "outputs": [
    {
     "name": "stdout",
     "output_type": "stream",
     "text": [
      "Car1\n",
      "Audi\n",
      "Car2\n",
      "BMW\n",
      "Car3\n",
      "Benz\n"
     ]
    }
   ],
   "source": [
    "## We Can Loop through the dictionaries keys \n",
    "for x in my_dictionary:\n",
    "    print(x)\n",
    "    print(my_dictionary[x])"
   ]
  },
  {
   "cell_type": "code",
   "execution_count": 53,
   "id": "2b22f87b-06e2-4ed3-9fd7-2dbe8c547b9f",
   "metadata": {},
   "outputs": [
    {
     "name": "stdout",
     "output_type": "stream",
     "text": [
      "Audi\n",
      "BMW\n",
      "Benz\n"
     ]
    }
   ],
   "source": [
    "## Directly Looping through the dictionaries values \n",
    "for x in my_dictionary.values():\n",
    "    print(x)"
   ]
  },
  {
   "cell_type": "code",
   "execution_count": 55,
   "id": "7ffeecec-bf2a-4639-96fb-829cd842d56c",
   "metadata": {},
   "outputs": [
    {
     "name": "stdout",
     "output_type": "stream",
     "text": [
      "('Car1', 'Audi')\n",
      "('Car2', 'BMW')\n",
      "('Car3', 'Benz')\n"
     ]
    }
   ],
   "source": [
    "## Looping through all the items in the dictionary \n",
    "for x in my_dictionary.items():\n",
    "    print(x)"
   ]
  },
  {
   "cell_type": "code",
   "execution_count": 57,
   "id": "a068f495-b434-4c47-b867-561d68aa6184",
   "metadata": {},
   "outputs": [],
   "source": [
    "## Adding items in the dictionary \n",
    "my_dictionary['Car4']='Pagani'"
   ]
  },
  {
   "cell_type": "code",
   "execution_count": 59,
   "id": "25c37ead-7e27-4e2e-9ee0-62e12167f5d8",
   "metadata": {},
   "outputs": [
    {
     "data": {
      "text/plain": [
       "{'Car1': 'Audi', 'Car2': 'BMW', 'Car3': 'Benz', 'Car4': 'Pagani'}"
      ]
     },
     "execution_count": 59,
     "metadata": {},
     "output_type": "execute_result"
    }
   ],
   "source": [
    "my_dictionary"
   ]
  },
  {
   "cell_type": "code",
   "execution_count": 65,
   "id": "a3193428-a2d2-41a2-bb86-31a8c68f76b1",
   "metadata": {},
   "outputs": [],
   "source": [
    "## Overridden Key Values in dictionary \n",
    "my_dictionary['Car1']='Ferari'"
   ]
  },
  {
   "cell_type": "code",
   "execution_count": 67,
   "id": "c35637e3-88c9-4a95-bc84-cc4afba85d61",
   "metadata": {},
   "outputs": [
    {
     "data": {
      "text/plain": [
       "{'Car1': 'Ferari', 'Car2': 'BMW', 'Car3': 'Benz', 'Car4': 'Pagani'}"
      ]
     },
     "execution_count": 67,
     "metadata": {},
     "output_type": "execute_result"
    }
   ],
   "source": [
    "my_dictionary"
   ]
  },
  {
   "cell_type": "markdown",
   "id": "e826664e-f0d3-4095-a4e9-fbe6352e4715",
   "metadata": {},
   "source": [
    "### Nested Dictionary "
   ]
  },
  {
   "cell_type": "code",
   "execution_count": 1,
   "id": "102465ee-3cdc-4949-87b6-f624285762e4",
   "metadata": {},
   "outputs": [],
   "source": [
    "## Creating key values and storing them in a dictionary with a key\n",
    "\n",
    "car1_model = {'Mercedes':1960}\n",
    "car2_model = {'Audi':1970}\n",
    "car3_model = {'Ambassador':1980}\n",
    "\n",
    "car_type = {'car1':car1_model,'car2':car2_model,'car3':car3_model}"
   ]
  },
  {
   "cell_type": "code",
   "execution_count": 3,
   "id": "76c70cd3-005f-4720-b17c-207c27fe12cc",
   "metadata": {},
   "outputs": [
    {
     "data": {
      "text/plain": [
       "{'car1': {'Mercedes': 1960},\n",
       " 'car2': {'Audi': 1970},\n",
       " 'car3': {'Ambassador': 1980}}"
      ]
     },
     "execution_count": 3,
     "metadata": {},
     "output_type": "execute_result"
    }
   ],
   "source": [
    "car_type"
   ]
  },
  {
   "cell_type": "code",
   "execution_count": 5,
   "id": "c040e71b-54bc-4697-ae57-93d7a2c2c9a2",
   "metadata": {},
   "outputs": [
    {
     "name": "stdout",
     "output_type": "stream",
     "text": [
      "{'Mercedes': 1960}\n"
     ]
    }
   ],
   "source": [
    "## Accessing Items in the dictionary \n",
    "print(car_type['car1'])"
   ]
  },
  {
   "cell_type": "code",
   "execution_count": 7,
   "id": "becce69a-8b0d-4ff7-a8fa-9cd02b269f9d",
   "metadata": {},
   "outputs": [
    {
     "name": "stdout",
     "output_type": "stream",
     "text": [
      "1960\n"
     ]
    }
   ],
   "source": [
    "## Accessing items one step further from the nested key \n",
    "print(car_type['car1']['Mercedes'])"
   ]
  },
  {
   "cell_type": "markdown",
   "id": "b839e401-d564-48df-83c6-b688c1e49af3",
   "metadata": {},
   "source": [
    "### Tuples\n",
    "- Tuples are not mutable or changeable. The elements cannot be changed"
   ]
  },
  {
   "cell_type": "code",
   "execution_count": 15,
   "id": "d644b618-31ce-4d88-a01c-11d95e174518",
   "metadata": {},
   "outputs": [],
   "source": [
    "## creating a tuple using tuple() function \n",
    "\n",
    "my_tuple = tuple()"
   ]
  },
  {
   "cell_type": "code",
   "execution_count": 17,
   "id": "fc998327-2e99-4a11-a2bb-265776d4659d",
   "metadata": {},
   "outputs": [
    {
     "data": {
      "text/plain": [
       "tuple"
      ]
     },
     "execution_count": 17,
     "metadata": {},
     "output_type": "execute_result"
    }
   ],
   "source": [
    "type(my_tuple)"
   ]
  },
  {
   "cell_type": "code",
   "execution_count": 19,
   "id": "ead1cf9b-e11f-40cb-8631-cce458214f30",
   "metadata": {},
   "outputs": [],
   "source": [
    "## Another way of creating tuple using ()\n",
    "my_tuple = ()\n"
   ]
  },
  {
   "cell_type": "code",
   "execution_count": 21,
   "id": "93b786dc-6f30-47b4-bd82-f65dca8535cc",
   "metadata": {},
   "outputs": [
    {
     "data": {
      "text/plain": [
       "tuple"
      ]
     },
     "execution_count": 21,
     "metadata": {},
     "output_type": "execute_result"
    }
   ],
   "source": [
    "type(my_tuple)"
   ]
  },
  {
   "cell_type": "code",
   "execution_count": 23,
   "id": "4cc133ad-3be1-4a71-acfa-b18a6cdb84c8",
   "metadata": {},
   "outputs": [],
   "source": [
    "my_tuple = (\"Krish\",\"Ankur\",\"John\")"
   ]
  },
  {
   "cell_type": "code",
   "execution_count": 27,
   "id": "a6a1cf52-a1d3-422c-85ac-ed0f8e41ac91",
   "metadata": {},
   "outputs": [
    {
     "data": {
      "text/plain": [
       "'Krish'"
      ]
     },
     "execution_count": 27,
     "metadata": {},
     "output_type": "execute_result"
    }
   ],
   "source": [
    "## Accessing elements in a tuple\n",
    "my_tuple[0]"
   ]
  },
  {
   "cell_type": "code",
   "execution_count": 29,
   "id": "453f1c4e-3dd0-4bee-b388-89235c1417f4",
   "metadata": {},
   "outputs": [
    {
     "data": {
      "text/plain": [
       "1"
      ]
     },
     "execution_count": 29,
     "metadata": {},
     "output_type": "execute_result"
    }
   ],
   "source": [
    "## Counting the number of occurences of an item \n",
    "\n",
    "my_tuple.count('Krish')"
   ]
  },
  {
   "cell_type": "markdown",
   "id": "c73d4bb4-99b4-4d3f-9c6d-727fa9ab04e5",
   "metadata": {},
   "source": [
    "# Lambda Function \n",
    "Lambda Function is an anonymous function which has no name is faster than traditional function"
   ]
  },
  {
   "cell_type": "code",
   "execution_count": 2,
   "id": "56e083eb-02ed-4498-8f29-cfef5e4d81d9",
   "metadata": {},
   "outputs": [],
   "source": [
    "# A Normal Function "
   ]
  },
  {
   "cell_type": "code",
   "execution_count": 4,
   "id": "f4344e91-93cd-4fc1-b5a0-5743455e3cda",
   "metadata": {},
   "outputs": [],
   "source": [
    "def addition(a,b):\n",
    "    return a+b"
   ]
  },
  {
   "cell_type": "code",
   "execution_count": 6,
   "id": "7a3d7d09-8398-4e02-909b-2176eb2cfb31",
   "metadata": {},
   "outputs": [
    {
     "data": {
      "text/plain": [
       "9"
      ]
     },
     "execution_count": 6,
     "metadata": {},
     "output_type": "execute_result"
    }
   ],
   "source": [
    "addition(4,5)"
   ]
  },
  {
   "cell_type": "code",
   "execution_count": 14,
   "id": "dc66bb87-b560-4e36-afaf-619291248d80",
   "metadata": {},
   "outputs": [],
   "source": [
    "# Lambda Function \n",
    "#Works only with single expressions"
   ]
  },
  {
   "cell_type": "code",
   "execution_count": 16,
   "id": "e2cdc6ee-8127-4a3f-91ad-fdfde3be68f6",
   "metadata": {},
   "outputs": [],
   "source": [
    "addition_lambda = lambda a,b:a+b"
   ]
  },
  {
   "cell_type": "code",
   "execution_count": 18,
   "id": "daad1079-5b5e-4f49-a1e8-1af34a3e3062",
   "metadata": {},
   "outputs": [
    {
     "data": {
      "text/plain": [
       "6"
      ]
     },
     "execution_count": 18,
     "metadata": {},
     "output_type": "execute_result"
    }
   ],
   "source": [
    "addition_lambda(2,4)"
   ]
  },
  {
   "cell_type": "markdown",
   "id": "08e3e506-02fb-423b-809b-5441f8209465",
   "metadata": {},
   "source": [
    "# Map Function"
   ]
  },
  {
   "cell_type": "code",
   "execution_count": 21,
   "id": "d9e9db01-fcd3-4f31-b8bd-150d7db84879",
   "metadata": {},
   "outputs": [],
   "source": [
    "# Map Function is used for iterating through the whole loop without using a for loop "
   ]
  },
  {
   "cell_type": "code",
   "execution_count": 23,
   "id": "8f51aefe-1ab7-4aa1-9970-c0cce0b8a084",
   "metadata": {},
   "outputs": [],
   "source": [
    "def even_or_odd(num):\n",
    "    if num%2==0:\n",
    "        return \"The number {} is even\".format(num)\n",
    "    else:\n",
    "        return \"The number {} is odd\".format(num)"
   ]
  },
  {
   "cell_type": "code",
   "execution_count": 25,
   "id": "ca1704fd-cd88-493e-abcd-1bf082c624bf",
   "metadata": {},
   "outputs": [
    {
     "data": {
      "text/plain": [
       "'The number 24 is even'"
      ]
     },
     "execution_count": 25,
     "metadata": {},
     "output_type": "execute_result"
    }
   ],
   "source": [
    "even_or_odd(24)"
   ]
  },
  {
   "cell_type": "code",
   "execution_count": 27,
   "id": "f223c339-e1c4-4620-bbc6-c7d873a5351a",
   "metadata": {},
   "outputs": [],
   "source": [
    "lst = [2,3,4,5,6,7,8,9]"
   ]
  },
  {
   "cell_type": "code",
   "execution_count": 31,
   "id": "b249274b-4bcc-42c3-b851-af3987b0bee4",
   "metadata": {},
   "outputs": [
    {
     "data": {
      "text/plain": [
       "['The number 2 is even',\n",
       " 'The number 3 is odd',\n",
       " 'The number 4 is even',\n",
       " 'The number 5 is odd',\n",
       " 'The number 6 is even',\n",
       " 'The number 7 is odd',\n",
       " 'The number 8 is even',\n",
       " 'The number 9 is odd']"
      ]
     },
     "execution_count": 31,
     "metadata": {},
     "output_type": "execute_result"
    }
   ],
   "source": [
    "list(map(even_or_odd,lst))"
   ]
  },
  {
   "cell_type": "markdown",
   "id": "26ec881c-0db3-4ff6-b670-5905cd01edb2",
   "metadata": {},
   "source": [
    "# Filter Function\n",
    "Returns all the values based on the condition without returning bool values"
   ]
  },
  {
   "cell_type": "code",
   "execution_count": 37,
   "id": "d1eec459-d739-4d66-8dd3-4470b3606bc2",
   "metadata": {},
   "outputs": [],
   "source": [
    "def even(num):\n",
    "    if num%2 == 0:\n",
    "        return True"
   ]
  },
  {
   "cell_type": "code",
   "execution_count": 39,
   "id": "4200371f-1cc7-4564-80f6-e404c91a2cfc",
   "metadata": {},
   "outputs": [],
   "source": [
    "lst = [2,3,4,5,6,7,8,9,0]"
   ]
  },
  {
   "cell_type": "code",
   "execution_count": 47,
   "id": "366c4551-dfd9-4416-a25d-811b1386428d",
   "metadata": {},
   "outputs": [
    {
     "data": {
      "text/plain": [
       "[2, 4, 6, 8, 0]"
      ]
     },
     "execution_count": 47,
     "metadata": {},
     "output_type": "execute_result"
    }
   ],
   "source": [
    "list(filter(even,lst)) # function name and list variable"
   ]
  },
  {
   "cell_type": "code",
   "execution_count": 49,
   "id": "9501692a-9114-45e8-b576-be08e0be2623",
   "metadata": {},
   "outputs": [],
   "source": [
    "# Returns all the even numbers from the list without saying true or false"
   ]
  },
  {
   "cell_type": "code",
   "execution_count": 51,
   "id": "5c221076-bee2-4cb6-84aa-6d67e6f8ed78",
   "metadata": {},
   "outputs": [],
   "source": [
    "# Using lambda in this scenario to avoid the function"
   ]
  },
  {
   "cell_type": "code",
   "execution_count": 53,
   "id": "ee316bef-57be-43d6-a525-62bbfc2ceff4",
   "metadata": {},
   "outputs": [
    {
     "data": {
      "text/plain": [
       "[2, 4, 6, 8, 0]"
      ]
     },
     "execution_count": 53,
     "metadata": {},
     "output_type": "execute_result"
    }
   ],
   "source": [
    "list(filter(lambda num:num%2==0, lst))"
   ]
  },
  {
   "cell_type": "code",
   "execution_count": 57,
   "id": "e84ffe5e-409f-4eea-869c-a1cf49d7a25c",
   "metadata": {},
   "outputs": [],
   "source": [
    "#short hand of using functions with one expression in the above example using lambda"
   ]
  },
  {
   "cell_type": "code",
   "execution_count": 59,
   "id": "2fd3bf1a-4902-441b-b36b-cdde88dbaf5d",
   "metadata": {},
   "outputs": [
    {
     "data": {
      "text/plain": [
       "[True, False, True, False, True, False, True, False, True]"
      ]
     },
     "execution_count": 59,
     "metadata": {},
     "output_type": "execute_result"
    }
   ],
   "source": [
    "list(map(lambda num:num%2==0, lst))"
   ]
  },
  {
   "cell_type": "code",
   "execution_count": 61,
   "id": "ba053f00-3158-4bf6-a78d-b70f5c15a7bb",
   "metadata": {},
   "outputs": [],
   "source": [
    "#map returns all the values with true or false based on the condition"
   ]
  },
  {
   "cell_type": "markdown",
   "id": "0cd07ab0-b28c-4c0b-bfb5-707b03f575a9",
   "metadata": {},
   "source": [
    "# List Comprehension\n",
    "List comprehensions provides a concise way to create lists. It consists of brackets containing an expression followed by a for clause, then zero or more for or if clauses. The expressions can be anything, meaning you can put in all kinds of objects in lists"
   ]
  },
  {
   "cell_type": "code",
   "execution_count": 64,
   "id": "7d65bbc4-5be2-4e9c-ae11-e06533f79ead",
   "metadata": {},
   "outputs": [],
   "source": [
    "lst1=[]\n",
    "def lst_square(lst):\n",
    "    for i in lst:\n",
    "        lst1.append(i*i)\n",
    "    return lst1"
   ]
  },
  {
   "cell_type": "code",
   "execution_count": 66,
   "id": "d02f97ab-5667-4f3c-9c3e-b07473a71920",
   "metadata": {},
   "outputs": [
    {
     "data": {
      "text/plain": [
       "[1, 4, 9, 16, 25, 36, 49, 64, 81]"
      ]
     },
     "execution_count": 66,
     "metadata": {},
     "output_type": "execute_result"
    }
   ],
   "source": [
    "lst_square([1,2,3,4,5,6,7,8,9])"
   ]
  },
  {
   "cell_type": "code",
   "execution_count": 68,
   "id": "5354d718-0c07-423d-b0a4-48dcb9691bea",
   "metadata": {},
   "outputs": [],
   "source": [
    "#Returns all the squares of numbers in the list "
   ]
  },
  {
   "cell_type": "code",
   "execution_count": 70,
   "id": "f7a1b4f4-fe68-4430-a385-1679bc7c4b3e",
   "metadata": {},
   "outputs": [],
   "source": [
    "#Using List Comprehension can get this done in one line of code"
   ]
  },
  {
   "cell_type": "code",
   "execution_count": 78,
   "id": "0705c889-cf80-4ac4-b487-108cf04c1f55",
   "metadata": {},
   "outputs": [
    {
     "data": {
      "text/plain": [
       "[1, 4, 9, 16, 25, 36]"
      ]
     },
     "execution_count": 78,
     "metadata": {},
     "output_type": "execute_result"
    }
   ],
   "source": [
    "#list comprehension\n",
    "#[returning value or expression | for clause]\n",
    "lst = [1,2,3,4,5,6]\n",
    "[i*i for i in lst]\n",
    "# the whole function is shortened to one line of code"
   ]
  },
  {
   "cell_type": "code",
   "execution_count": 80,
   "id": "111041c7-57fe-4a6d-bc3f-5d16dd3051ec",
   "metadata": {},
   "outputs": [],
   "source": [
    "# we can also parse it to a variable\n",
    "lst1 = [i*i for i in lst]"
   ]
  },
  {
   "cell_type": "code",
   "execution_count": 82,
   "id": "496f5928-4b37-40b4-b9a8-ade91bd22d43",
   "metadata": {},
   "outputs": [
    {
     "data": {
      "text/plain": [
       "[1, 4, 9, 16, 25, 36]"
      ]
     },
     "execution_count": 82,
     "metadata": {},
     "output_type": "execute_result"
    }
   ],
   "source": [
    "lst1"
   ]
  },
  {
   "cell_type": "code",
   "execution_count": 88,
   "id": "02a82fcf-9df2-476d-a3d5-c37287cd82e1",
   "metadata": {},
   "outputs": [],
   "source": [
    "# adding conditions to list comprehension\n",
    "lst1 = [i*i for i in lst if i%2==0]\n",
    "# gets the square of even numbers only"
   ]
  },
  {
   "cell_type": "code",
   "execution_count": 90,
   "id": "ba384355-32eb-4038-8329-5c82a4a5192b",
   "metadata": {},
   "outputs": [
    {
     "data": {
      "text/plain": [
       "[4, 16, 36]"
      ]
     },
     "execution_count": 90,
     "metadata": {},
     "output_type": "execute_result"
    }
   ],
   "source": [
    "lst1"
   ]
  },
  {
   "cell_type": "markdown",
   "id": "e06f932d-7b1a-4777-9ef8-774f07a582c8",
   "metadata": {},
   "source": [
    "# String Formatting in Python"
   ]
  },
  {
   "cell_type": "code",
   "execution_count": 101,
   "id": "feb490d3-a22b-48a1-a7ea-92625f91ea67",
   "metadata": {},
   "outputs": [],
   "source": [
    "firstname = \"Sumar\"\n",
    "lastname = \"Fawaz\"\n",
    "\n",
    "fullname = \"Hello your first name is {first_name} and your last name is {last_name}\".format(first_name=firstname,last_name=lastname)"
   ]
  },
  {
   "cell_type": "code",
   "execution_count": 103,
   "id": "05dc62f2-e0ff-462d-90e4-776fa96f289b",
   "metadata": {},
   "outputs": [
    {
     "data": {
      "text/plain": [
       "'Hello your first name is Sumar and your last name is Fawaz'"
      ]
     },
     "execution_count": 103,
     "metadata": {},
     "output_type": "execute_result"
    }
   ],
   "source": [
    "fullname"
   ]
  },
  {
   "cell_type": "code",
   "execution_count": 105,
   "id": "3c8b23bd-37f4-4909-910f-f5da2414f66f",
   "metadata": {},
   "outputs": [],
   "source": [
    "fullname = \"Hello your first name is {} and your last name is {}\".format(firstname,lastname)"
   ]
  },
  {
   "cell_type": "code",
   "execution_count": 107,
   "id": "6dbca96f-4af5-4e5d-9456-6c1c0c67fb62",
   "metadata": {},
   "outputs": [
    {
     "data": {
      "text/plain": [
       "'Hello your first name is Sumar and your last name is Fawaz'"
      ]
     },
     "execution_count": 107,
     "metadata": {},
     "output_type": "execute_result"
    }
   ],
   "source": [
    "fullname"
   ]
  },
  {
   "cell_type": "markdown",
   "id": "8f8f2abb-4445-4762-babe-7e5b83383ec3",
   "metadata": {},
   "source": [
    "# Python List Iterables vs Iterators\n",
    "Iterables will be initiated in the memory whenever initilialized while iterators won't be initiated in the memory until the .next() will be used.\n",
    "\n",
    "- An iterator is very useful to write code which performs better because all the values are not stored inside the memory until it is being called"
   ]
  },
  {
   "cell_type": "code",
   "execution_count": 161,
   "id": "d4a3a80f-bc30-41cf-b1f2-331ed854d1d5",
   "metadata": {},
   "outputs": [],
   "source": [
    "#Lists are iterables\n",
    "lst = [1,2,4,5,6,7,8,9,0]"
   ]
  },
  {
   "cell_type": "code",
   "execution_count": 163,
   "id": "6b1aa9b5-7175-49f8-80c9-5b4bba485e80",
   "metadata": {},
   "outputs": [
    {
     "name": "stdout",
     "output_type": "stream",
     "text": [
      "1\n",
      "2\n",
      "4\n",
      "5\n",
      "6\n",
      "7\n",
      "8\n",
      "9\n",
      "0\n"
     ]
    }
   ],
   "source": [
    "for i in lst:\n",
    "    print(i)"
   ]
  },
  {
   "cell_type": "code",
   "execution_count": 175,
   "id": "cbb209bd-cfea-4c47-8a28-4d59bdc3c31e",
   "metadata": {},
   "outputs": [],
   "source": [
    "lst1 = iter(lst) #inbuilt iter() method, this is an iterator now. Convert iterable to iterator"
   ]
  },
  {
   "cell_type": "code",
   "execution_count": 177,
   "id": "e893108b-c1d0-4a24-ac45-7234cefe0384",
   "metadata": {},
   "outputs": [],
   "source": [
    "# The elements in the iterator cannot be seen at once, instead we shoudl use the method next()\n",
    "# to get each and every element in the iterator"
   ]
  },
  {
   "cell_type": "code",
   "execution_count": 179,
   "id": "883300f5-0b31-4237-81e1-c125d4af9dd9",
   "metadata": {},
   "outputs": [
    {
     "data": {
      "text/plain": [
       "1"
      ]
     },
     "execution_count": 179,
     "metadata": {},
     "output_type": "execute_result"
    }
   ],
   "source": [
    "next(lst1)"
   ]
  },
  {
   "cell_type": "code",
   "execution_count": 181,
   "id": "e9d6a262-f4d8-476a-ac7a-1c4a7b4adbe0",
   "metadata": {},
   "outputs": [],
   "source": [
    "# WE can write a for loop to get the values inside the iterator"
   ]
  },
  {
   "cell_type": "code",
   "execution_count": 183,
   "id": "74dda736-015f-401d-aa7c-37afefbba7ee",
   "metadata": {},
   "outputs": [
    {
     "name": "stdout",
     "output_type": "stream",
     "text": [
      "2\n",
      "4\n",
      "5\n",
      "6\n",
      "7\n",
      "8\n",
      "9\n",
      "0\n"
     ]
    }
   ],
   "source": [
    "for i in lst1:\n",
    "    print(i)"
   ]
  },
  {
   "cell_type": "code",
   "execution_count": 185,
   "id": "5364a95b-098c-4eb2-9f30-021d3d1bdbb7",
   "metadata": {},
   "outputs": [],
   "source": [
    "# it is skipping 1 because 1 is already stored in the memory"
   ]
  },
  {
   "cell_type": "markdown",
   "id": "8817ade2-e1f3-4f0d-8825-6b417ad8b398",
   "metadata": {},
   "source": [
    "# OOPS in Python "
   ]
  },
  {
   "cell_type": "markdown",
   "id": "071f0138-b1e6-4ad2-b2ee-becfc6e74b0e",
   "metadata": {},
   "source": [
    "## Class in Python"
   ]
  },
  {
   "cell_type": "code",
   "execution_count": 215,
   "id": "6d9333fa-5952-45a2-aa58-0b67797b4ab9",
   "metadata": {},
   "outputs": [],
   "source": [
    "class Car:\n",
    "    pass #creating a class and saying it is empty"
   ]
  },
  {
   "cell_type": "code",
   "execution_count": 217,
   "id": "016f51bb-d828-4f4a-9cc2-555a5c3933f6",
   "metadata": {},
   "outputs": [],
   "source": [
    "car1 = Car()"
   ]
  },
  {
   "cell_type": "code",
   "execution_count": 219,
   "id": "b39522c9-ed4b-4889-9353-44847819bec4",
   "metadata": {},
   "outputs": [
    {
     "data": {
      "text/plain": [
       "<__main__.Car at 0x1ff8a94e930>"
      ]
     },
     "execution_count": 219,
     "metadata": {},
     "output_type": "execute_result"
    }
   ],
   "source": [
    "car1"
   ]
  },
  {
   "cell_type": "code",
   "execution_count": 221,
   "id": "11a36ce0-b862-457a-afdd-56903ad55aea",
   "metadata": {},
   "outputs": [],
   "source": [
    "car1.windows=5\n",
    "car1.doors=4"
   ]
  },
  {
   "cell_type": "code",
   "execution_count": 225,
   "id": "2e097381-cce0-4435-97d4-571989633716",
   "metadata": {},
   "outputs": [
    {
     "name": "stdout",
     "output_type": "stream",
     "text": [
      "5\n"
     ]
    }
   ],
   "source": [
    "print(car1.windows)"
   ]
  },
  {
   "cell_type": "code",
   "execution_count": 77,
   "id": "18925f52-e631-4f50-a41e-5319de3b7922",
   "metadata": {},
   "outputs": [],
   "source": [
    "class Car:\n",
    "    def __init__(self,window,door,enginetype):\n",
    "        self.windows=window\n",
    "        self.doors=door\n",
    "        self.enginetype=enginetype\n",
    "# __init__ method is a constructor for the class where it will be initializaed each and everytime\n",
    "# the class is being called\n",
    "    def self_driving(self):\n",
    "        return \"This car has a {engine_type} engine\".format(engine_type=self.enginetype)\n",
    "        # This is a method that we have created called self_driving() where we have parse the \n",
    "        # parameter self inside the method. We can use that to access the values in the above method\n",
    "        # we have to use the self keyword infront of the variable that we want to call"
   ]
  },
  {
   "cell_type": "code",
   "execution_count": 79,
   "id": "6e61d122-5a83-42e8-af3f-398e32785c40",
   "metadata": {},
   "outputs": [],
   "source": [
    "# When we try to create an object for that class we have to parse the values for the init method \n",
    "car1=Car(4,4,\"Diesel\")"
   ]
  },
  {
   "cell_type": "code",
   "execution_count": 81,
   "id": "5d984a24-33c1-47ca-a772-3a8aef6dbc3d",
   "metadata": {},
   "outputs": [
    {
     "data": {
      "text/plain": [
       "4"
      ]
     },
     "execution_count": 81,
     "metadata": {},
     "output_type": "execute_result"
    }
   ],
   "source": [
    "car1.windows\n",
    "# We have to use the self init values to access the variables not the parameter elements"
   ]
  },
  {
   "cell_type": "code",
   "execution_count": 83,
   "id": "d5c67e12-dc91-464f-890b-72c256eab634",
   "metadata": {},
   "outputs": [
    {
     "data": {
      "text/plain": [
       "'This car has a Diesel engine'"
      ]
     },
     "execution_count": 83,
     "metadata": {},
     "output_type": "execute_result"
    }
   ],
   "source": [
    "car1.self_driving() # calling that method here "
   ]
  },
  {
   "cell_type": "markdown",
   "id": "9963269e-fb04-4f14-a6b3-f912720f3a36",
   "metadata": {},
   "source": [
    "# Python Exception Handling"
   ]
  },
  {
   "cell_type": "code",
   "execution_count": 86,
   "id": "93021c38-45d1-4bd2-848f-52939b1d863a",
   "metadata": {},
   "outputs": [
    {
     "name": "stdout",
     "output_type": "stream",
     "text": [
      "Error Exception\n"
     ]
    }
   ],
   "source": [
    "#Handling Exceptions can be very specific and generic. We can use the general class that is called \n",
    "# Exception which we can use to handle exceptions in a generic way\n",
    "\n",
    "#Python has try except not try catch \n",
    "\n",
    "try:\n",
    "    #code we want to execute\n",
    "    a=b\n",
    "except:\n",
    "    print(\"Error Exception\")"
   ]
  },
  {
   "cell_type": "code",
   "execution_count": 88,
   "id": "85238c57-50ec-4b01-8cb8-572aba03c86a",
   "metadata": {},
   "outputs": [],
   "source": [
    "# In the above code there is an exception that has occured while executing the code base. so the \n",
    "# except has captured that and is a given a custom message"
   ]
  },
  {
   "cell_type": "code",
   "execution_count": 90,
   "id": "5640fac8-3a92-49ef-b9c5-3146497de502",
   "metadata": {},
   "outputs": [
    {
     "name": "stdout",
     "output_type": "stream",
     "text": [
      "name 'b' is not defined\n"
     ]
    }
   ],
   "source": [
    "try:\n",
    "    a=b\n",
    "except Exception as ex:\n",
    "    print(ex)"
   ]
  },
  {
   "cell_type": "code",
   "execution_count": 92,
   "id": "3fce899b-ec9a-4d42-b558-07cf566c660d",
   "metadata": {},
   "outputs": [],
   "source": [
    "# In the above code snippet we have the except which handles the exception. For that we are parsing\n",
    "# the generic Exception class and we have an alias called ex that we are printing to show the \n",
    "# exception "
   ]
  },
  {
   "cell_type": "code",
   "execution_count": 94,
   "id": "51e8fa64-65cf-45ed-baff-326e7099ac93",
   "metadata": {},
   "outputs": [],
   "source": [
    "# We can capture more precise exceptions based on their type that is printed during the exception "
   ]
  },
  {
   "cell_type": "code",
   "execution_count": 96,
   "id": "b75c2910-ec98-4196-9d0c-4a8e1ee71bf7",
   "metadata": {},
   "outputs": [
    {
     "ename": "NameError",
     "evalue": "name 'b' is not defined",
     "output_type": "error",
     "traceback": [
      "\u001b[1;31m---------------------------------------------------------------------------\u001b[0m",
      "\u001b[1;31mNameError\u001b[0m                                 Traceback (most recent call last)",
      "Cell \u001b[1;32mIn[96], line 1\u001b[0m\n\u001b[1;32m----> 1\u001b[0m a\u001b[38;5;241m=\u001b[39mb\n",
      "\u001b[1;31mNameError\u001b[0m: name 'b' is not defined"
     ]
    }
   ],
   "source": [
    "a=b"
   ]
  },
  {
   "cell_type": "code",
   "execution_count": 98,
   "id": "5f05520a-6fea-40f2-9e27-534a426fee9d",
   "metadata": {},
   "outputs": [],
   "source": [
    "# in the above code snippet we haven't used a try except so we are getting this exception unhandled\n",
    "# directly to the user which is pretty much hard to understand and is scary\n",
    "# we can handle this using the subclass or child class of the main class which is Exception"
   ]
  },
  {
   "cell_type": "code",
   "execution_count": 100,
   "id": "c56d95e6-9dae-4f32-952a-13d0b4b74d4b",
   "metadata": {},
   "outputs": [
    {
     "name": "stdout",
     "output_type": "stream",
     "text": [
      "You haven't initiated the name b\n"
     ]
    }
   ],
   "source": [
    "try:\n",
    "    a=b\n",
    "except NameError:\n",
    "    print(\"You haven't initiated the name b\")\n",
    "except Exception as ex:\n",
    "    print(ex)"
   ]
  },
  {
   "cell_type": "code",
   "execution_count": 102,
   "id": "3a9ad646-bea5-4b86-b3dc-2277255556ed",
   "metadata": {},
   "outputs": [],
   "source": [
    "# In the above code snippet we are using specific exception handling at the top and we also have the\n",
    "# generic exception handling below that to handle exceptions that we haven't foreseen"
   ]
  },
  {
   "cell_type": "code",
   "execution_count": 122,
   "id": "e5bc2094-52fb-4f54-ad89-3cfff4b2cebd",
   "metadata": {},
   "outputs": [
    {
     "name": "stdin",
     "output_type": "stream",
     "text": [
      "Please enter number 1 12\n",
      "Please enter number 2 0\n"
     ]
    },
    {
     "name": "stdout",
     "output_type": "stream",
     "text": [
      "You can't divide a value by 0, please enter a value greater than 0.\n",
      "The calculation was performed\n"
     ]
    }
   ],
   "source": [
    "try:\n",
    "    a=int(input(\"Please enter number 1\"))\n",
    "    b=int(input(\"Please enter number 2\"))\n",
    "    c=int(a/b)\n",
    "    \n",
    "    #We are trying to divide two values, we might get errors in terms of dividing it using 0\n",
    "    #Which is an exception\n",
    "except ZeroDivisionError:\n",
    "    print(\"You can't divide a value by 0, please enter a value greater than 0.\")\n",
    "    \n",
    "except Exception as ex:\n",
    "    print(\"Something just went wrong, please contact the support team.\")\n",
    "\n",
    "else:\n",
    "    # If the division is successful, i will be displaying the result\n",
    "    print(c)\n",
    "\n",
    "finally:\n",
    "    print(\"The calculation was performed\")\n",
    "    # The code snippet within finally will execture regardless of success or failure of the try block\n",
    "\n",
    "# In python we have else and finally that we can add to the try except block. \n",
    "# The else will only execute if the except has not caught any exception. \n",
    "# finally will run even if there are exceptions or not\n",
    "\n",
    "# the main feature of else is that we can also access local variables inside try block\n",
    "# which cannot be done in other programming languages\n"
   ]
  },
  {
   "cell_type": "code",
   "execution_count": 124,
   "id": "69f85ecd-823f-402d-aae6-300d55243083",
   "metadata": {},
   "outputs": [
    {
     "ename": "ZeroDivisionError",
     "evalue": "division by zero",
     "output_type": "error",
     "traceback": [
      "\u001b[1;31m---------------------------------------------------------------------------\u001b[0m",
      "\u001b[1;31mZeroDivisionError\u001b[0m                         Traceback (most recent call last)",
      "Cell \u001b[1;32mIn[124], line 1\u001b[0m\n\u001b[1;32m----> 1\u001b[0m \u001b[38;5;241m12\u001b[39m\u001b[38;5;241m/\u001b[39m\u001b[38;5;241m0\u001b[39m\n",
      "\u001b[1;31mZeroDivisionError\u001b[0m: division by zero"
     ]
    }
   ],
   "source": [
    "12/0 # ZeroDivisionError"
   ]
  },
  {
   "cell_type": "markdown",
   "id": "02d81e9b-9161-4b49-922b-8a244d263d85",
   "metadata": {},
   "source": [
    "# Custom Exception "
   ]
  },
  {
   "cell_type": "code",
   "execution_count": 127,
   "id": "6a02e98a-4a7c-4bbb-9168-55836dbbf300",
   "metadata": {},
   "outputs": [],
   "source": [
    "# We can create our custom exceptions that will handle different use case scenarios within the \n",
    "# program\n",
    "# We will be creating a generic class where we will parse the Exception class as an arguement\n",
    "class Error(Exception):\n",
    "    pass\n",
    "\n",
    "class dobException(Error):\n",
    "    pass\n",
    "# We created the generic class called Error above the dobException class which is a custom \n",
    "# Exception that we are trying to handle. WE have parsed the Error class that we have created above \n",
    "# that method"
   ]
  },
  {
   "cell_type": "code",
   "execution_count": 133,
   "id": "fd87b946-99f5-4368-96f4-54889cc5219b",
   "metadata": {},
   "outputs": [
    {
     "name": "stdin",
     "output_type": "stream",
     "text": [
      "Please enter the year of birth 1999\n"
     ]
    },
    {
     "name": "stdout",
     "output_type": "stream",
     "text": [
      "You are eligible for this\n"
     ]
    }
   ],
   "source": [
    "year = int(input(\"Please enter the year of birth\"))\n",
    "age = 2024-year\n",
    "#we will write the code snipped within the try except block \n",
    "try:\n",
    "    if age<=30 and age>20:\n",
    "        print(\"You are eligible for this\")\n",
    "    else:\n",
    "        raise dobException # now for the else condition we are raising the dobException that we \n",
    "        #created\n",
    "except dobException:\n",
    "    # Now we have used the same class to parse if for the except as well\n",
    "    print(\"The age is not within the range\")"
   ]
  },
  {
   "cell_type": "markdown",
   "id": "821f0ca8-72c7-49df-8980-b4cd4df29d1f",
   "metadata": {},
   "source": [
    "# Inheritance in Python "
   ]
  },
  {
   "cell_type": "code",
   "execution_count": 136,
   "id": "3c86505f-7631-48c2-af94-11ed4d76bfe4",
   "metadata": {},
   "outputs": [],
   "source": [
    "class Car:\n",
    "    def __init__(self,window,door,enginetype):\n",
    "        self.windows=window\n",
    "        self.doors=door\n",
    "        self.engtype=enginetype\n",
    "    def drive(self):\n",
    "        print(\"This person drivess\")"
   ]
  },
  {
   "cell_type": "code",
   "execution_count": 156,
   "id": "86a8d971-5998-4dbf-bfed-af4789e057a7",
   "metadata": {},
   "outputs": [],
   "source": [
    "# Inheritance of the above Car class\n",
    "class audi(Car): # this is where we are inherting the Car class\n",
    "    def __init__(self,windows,doors,engtype,ai): # ai is additional parameter here\n",
    "        super().__init__(windows,doors,engtype) # here super() refers to the parent class Car and\n",
    "        # we should use the variables that we used with self in the parent class\n",
    "        self.enableai=ai # This refers to the additional parameter that we parsed\n",
    "    def selfdriving(self):\n",
    "        print(\"Audi Supports self driving\")"
   ]
  },
  {
   "cell_type": "code",
   "execution_count": 158,
   "id": "8024563a-3051-44c5-8efd-846f6bda463d",
   "metadata": {},
   "outputs": [],
   "source": [
    "audiA6 = audi(4,5,\"Petrol\",True)"
   ]
  },
  {
   "cell_type": "code",
   "execution_count": 160,
   "id": "ace659eb-d42a-4795-a2cc-526b3b396cc3",
   "metadata": {},
   "outputs": [
    {
     "data": {
      "text/plain": [
       "4"
      ]
     },
     "execution_count": 160,
     "metadata": {},
     "output_type": "execute_result"
    }
   ],
   "source": [
    "audiA6.windows"
   ]
  },
  {
   "cell_type": "code",
   "execution_count": 162,
   "id": "215b6577-9660-438b-8812-ac5cb6a5e5db",
   "metadata": {},
   "outputs": [
    {
     "name": "stdout",
     "output_type": "stream",
     "text": [
      "Audi Supports self driving\n"
     ]
    }
   ],
   "source": [
    "audiA6.selfdriving()"
   ]
  },
  {
   "cell_type": "code",
   "execution_count": 164,
   "id": "6b350868-8952-4b5b-a3c0-274fe4ed2ff5",
   "metadata": {},
   "outputs": [],
   "source": [
    "# Accessing drive() method in the Car class"
   ]
  },
  {
   "cell_type": "code",
   "execution_count": 166,
   "id": "7f11ece1-416f-4996-9ec3-8b86a2225170",
   "metadata": {},
   "outputs": [
    {
     "name": "stdout",
     "output_type": "stream",
     "text": [
      "This person drivess\n"
     ]
    }
   ],
   "source": [
    "audiA6.drive()"
   ]
  },
  {
   "cell_type": "markdown",
   "id": "fb6f3b5f-90ea-4312-8b77-4e4229b3ed75",
   "metadata": {},
   "source": [
    "# OOPS-Magic Methods in Classes "
   ]
  },
  {
   "cell_type": "code",
   "execution_count": 181,
   "id": "18253c66-50b2-4a5f-a827-a765349d9429",
   "metadata": {},
   "outputs": [],
   "source": [
    "# Magic methods are the methods in a class that run internally to do certain functionalities\n",
    "# in the class "
   ]
  },
  {
   "cell_type": "code",
   "execution_count": 183,
   "id": "3273563d-e5d3-4311-8e37-0288c8bc1256",
   "metadata": {},
   "outputs": [
    {
     "data": {
      "text/plain": [
       "['__class__',\n",
       " '__delattr__',\n",
       " '__dict__',\n",
       " '__dir__',\n",
       " '__doc__',\n",
       " '__eq__',\n",
       " '__format__',\n",
       " '__ge__',\n",
       " '__getattribute__',\n",
       " '__getstate__',\n",
       " '__gt__',\n",
       " '__hash__',\n",
       " '__init__',\n",
       " '__init_subclass__',\n",
       " '__le__',\n",
       " '__lt__',\n",
       " '__module__',\n",
       " '__ne__',\n",
       " '__new__',\n",
       " '__reduce__',\n",
       " '__reduce_ex__',\n",
       " '__repr__',\n",
       " '__setattr__',\n",
       " '__sizeof__',\n",
       " '__str__',\n",
       " '__subclasshook__',\n",
       " '__weakref__',\n",
       " 'drive']"
      ]
     },
     "execution_count": 183,
     "metadata": {},
     "output_type": "execute_result"
    }
   ],
   "source": [
    "dir(Car)"
   ]
  },
  {
   "cell_type": "code",
   "execution_count": 179,
   "id": "3af45ae1-2460-4e91-b5c1-8463369cc792",
   "metadata": {},
   "outputs": [],
   "source": [
    "# The above displayed methods are the magic methods inside the Car class"
   ]
  },
  {
   "cell_type": "code",
   "execution_count": 195,
   "id": "78392ccc-41c2-4c1e-97a1-8b4ebb09285d",
   "metadata": {},
   "outputs": [],
   "source": [
    "# These magic methods can be overriden just like the __init__ method that we override"
   ]
  },
  {
   "cell_type": "code",
   "execution_count": 197,
   "id": "8d14f1ab-65b2-4ef3-b058-fd437b88b1db",
   "metadata": {},
   "outputs": [],
   "source": [
    "c=Car(5,4,'Petrol')"
   ]
  },
  {
   "cell_type": "code",
   "execution_count": 199,
   "id": "1b439d67-af19-4f97-a44f-c385ba3d2942",
   "metadata": {},
   "outputs": [
    {
     "name": "stdout",
     "output_type": "stream",
     "text": [
      "16\n"
     ]
    }
   ],
   "source": [
    "print(c.__sizeof__())"
   ]
  },
  {
   "cell_type": "code",
   "execution_count": 201,
   "id": "67411672-1728-47d0-b717-6bc936784c71",
   "metadata": {},
   "outputs": [],
   "source": [
    "# We have used a magic method above which is __sizeof__(). Now we will be overriding it"
   ]
  },
  {
   "cell_type": "code",
   "execution_count": 209,
   "id": "6473c3e1-ab68-422a-9c4f-3ceff3556d4f",
   "metadata": {},
   "outputs": [],
   "source": [
    "# Creating a new class to override the __sizeof__() method\n",
    "class Human:\n",
    "    def __init__(self,name):\n",
    "        self.hname=name\n",
    "    def __sizeof__(self):\n",
    "        return \"Overriding the magic method\""
   ]
  },
  {
   "cell_type": "code",
   "execution_count": 211,
   "id": "2075fad8-3fe5-4161-99be-9dfe177a6c4e",
   "metadata": {},
   "outputs": [],
   "source": [
    "human = Human(\"Sumar\")"
   ]
  },
  {
   "cell_type": "code",
   "execution_count": 213,
   "id": "61301e8d-ac26-4d30-9335-a892d5c40198",
   "metadata": {},
   "outputs": [
    {
     "data": {
      "text/plain": [
       "'Overriding the magic method'"
      ]
     },
     "execution_count": 213,
     "metadata": {},
     "output_type": "execute_result"
    }
   ],
   "source": [
    "human.__sizeof__()"
   ]
  },
  {
   "cell_type": "code",
   "execution_count": 215,
   "id": "21166307-7511-4c5d-b1b3-ad89f68b98dc",
   "metadata": {},
   "outputs": [],
   "source": [
    "# that is how magic methods work in python"
   ]
  },
  {
   "cell_type": "markdown",
   "id": "23189e49-313d-4de3-97a3-14f259beb2d9",
   "metadata": {},
   "source": [
    "# Python Assert Statement\n",
    "Assert statement checks if a given logical condition is true or false. Program execution proceeds only if the expression is true and raises the the AssertionError when it is false. "
   ]
  },
  {
   "cell_type": "code",
   "execution_count": 219,
   "id": "79ba6bc8-5669-4ace-94f3-6b1d1d6cf98f",
   "metadata": {},
   "outputs": [],
   "source": [
    "# Assert can be used instead of an if because when we want to only proceed if it is true\n",
    "# we can handle the else statement or the faiure of the logical expression using Assertion exception\n",
    "# that is thrown "
   ]
  },
  {
   "cell_type": "code",
   "execution_count": 221,
   "id": "a526e5d3-3fe9-47b0-abbd-9b8fa635347c",
   "metadata": {},
   "outputs": [],
   "source": [
    "num=10 \n",
    "assert num>=10"
   ]
  },
  {
   "cell_type": "code",
   "execution_count": 223,
   "id": "9534f423-5796-4009-9d59-3b78800eb678",
   "metadata": {},
   "outputs": [],
   "source": [
    "# now we are not getting any exception because it is true"
   ]
  },
  {
   "cell_type": "code",
   "execution_count": 225,
   "id": "e3de90bb-ba69-4e60-87e0-0f2673d498d2",
   "metadata": {},
   "outputs": [
    {
     "ename": "AssertionError",
     "evalue": "",
     "output_type": "error",
     "traceback": [
      "\u001b[1;31m---------------------------------------------------------------------------\u001b[0m",
      "\u001b[1;31mAssertionError\u001b[0m                            Traceback (most recent call last)",
      "Cell \u001b[1;32mIn[225], line 2\u001b[0m\n\u001b[0;32m      1\u001b[0m num \u001b[38;5;241m=\u001b[39m \u001b[38;5;241m10\u001b[39m \n\u001b[1;32m----> 2\u001b[0m \u001b[38;5;28;01massert\u001b[39;00m num\u001b[38;5;241m>\u001b[39m\u001b[38;5;241m10\u001b[39m\n",
      "\u001b[1;31mAssertionError\u001b[0m: "
     ]
    }
   ],
   "source": [
    "num = 10 \n",
    "assert num>10"
   ]
  },
  {
   "cell_type": "code",
   "execution_count": 227,
   "id": "510f5d01-cb70-454a-acb5-b074e1695396",
   "metadata": {},
   "outputs": [],
   "source": [
    "#now we are getting the AssertionError exception which we can use "
   ]
  },
  {
   "cell_type": "code",
   "execution_count": 233,
   "id": "ad4e5c06-89a9-40d7-95d8-e90975380936",
   "metadata": {},
   "outputs": [
    {
     "name": "stdin",
     "output_type": "stream",
     "text": [
      "Please enter the value 13\n"
     ]
    },
    {
     "name": "stdout",
     "output_type": "stream",
     "text": [
      "The number is not an even number\n"
     ]
    }
   ],
   "source": [
    "try:\n",
    "    num=int(input(\"Please enter the value\"))\n",
    "    assert num%2==0\n",
    "    print(\"The number is even\")\n",
    "except AssertionError:\n",
    "    print(\"The number is not an even number\")"
   ]
  },
  {
   "cell_type": "code",
   "execution_count": 237,
   "id": "d86397d0-51bc-4061-a163-d4c3c14ec63b",
   "metadata": {},
   "outputs": [],
   "source": [
    "# We have used the AssertionError to handle the false of the condition"
   ]
  },
  {
   "cell_type": "markdown",
   "id": "92dc33b3-45b7-4bf9-9389-c2d544caf1df",
   "metadata": {},
   "source": [
    "# Iterators Vs Generators"
   ]
  },
  {
   "cell_type": "code",
   "execution_count": 269,
   "id": "e5c628e2-9288-4da8-aa06-1cadaad64206",
   "metadata": {},
   "outputs": [],
   "source": [
    "# Iterator\n",
    "lst = [1,2,3,4,5]"
   ]
  },
  {
   "cell_type": "code",
   "execution_count": 271,
   "id": "689df1fa-6a03-427a-b22a-aae5a18d1026",
   "metadata": {},
   "outputs": [],
   "source": [
    "iterable = iter(lst)"
   ]
  },
  {
   "cell_type": "code",
   "execution_count": 273,
   "id": "eda0bcd8-bb3c-44e5-ba1c-b4bc24cf90f5",
   "metadata": {},
   "outputs": [
    {
     "data": {
      "text/plain": [
       "1"
      ]
     },
     "execution_count": 273,
     "metadata": {},
     "output_type": "execute_result"
    }
   ],
   "source": [
    "next(iterable)"
   ]
  },
  {
   "cell_type": "code",
   "execution_count": 275,
   "id": "208a7d7a-be4b-418a-8935-e11df4bb4a42",
   "metadata": {},
   "outputs": [],
   "source": [
    "### Generator \n",
    "def square(n):\n",
    "    for i in range(n): #eturns a sequence of numbers, starting from 0 by default, \n",
    "        #and increments by 1 (by default), \n",
    "        #and stops before a specified number\n",
    "        yield i**2"
   ]
  },
  {
   "cell_type": "markdown",
   "id": "deea3840-1c15-46e1-b35a-020b9e3b1abb",
   "metadata": {},
   "source": [
    "### Difference between Iterator & Generator\n",
    "1. To create an iterator, we should use the iter() method and to create a generator we should create a function with the keyword yield just like the above example\n",
    "2. The yield keyword can save the local variable value and also print it.\n",
    "3. Generators help us write fast and compact code\n",
    "4. Iterator is much more memory efficient compared to Generator"
   ]
  },
  {
   "cell_type": "markdown",
   "id": "419ea0c2-dfd3-43f4-b047-4d4f0b4e5390",
   "metadata": {},
   "source": [
    "### Decorators"
   ]
  },
  {
   "cell_type": "code",
   "execution_count": 299,
   "id": "3e5b91b0-ae32-4223-b30c-357ab3abf061",
   "metadata": {},
   "outputs": [],
   "source": [
    "## Function copy\n",
    "    ### When we assign a function to a variable and use del keyword to delet the function and \n",
    "    ### still try to access the function using the variable. it will still work\n",
    "    ### which means the function is getting copied to the variable completely\n",
    "## Closures\n",
    "    ### Closures are basically function within a function\n",
    "## Decorators"
   ]
  },
  {
   "cell_type": "code",
   "execution_count": 301,
   "id": "8e70cbd6-bdfd-4cbd-8794-2a616f3582fa",
   "metadata": {},
   "outputs": [],
   "source": [
    "def welcome():\n",
    "    return \"Welcome\""
   ]
  },
  {
   "cell_type": "code",
   "execution_count": 303,
   "id": "f2ebd249-2325-424c-b76e-9138edba80b7",
   "metadata": {},
   "outputs": [],
   "source": [
    "wel=welcome() # this line of code basically copies the function welcome() to variable wel\n",
    "del welcome # now we are deleting the function from the memory"
   ]
  },
  {
   "cell_type": "code",
   "execution_count": 305,
   "id": "f62b1a2f-6e7b-40df-8981-7ad61de50f75",
   "metadata": {},
   "outputs": [
    {
     "data": {
      "text/plain": [
       "'Welcome'"
      ]
     },
     "execution_count": 305,
     "metadata": {},
     "output_type": "execute_result"
    }
   ],
   "source": [
    "wel #now if we use the variable it will still do the functionalities inside a function"
   ]
  },
  {
   "cell_type": "code",
   "execution_count": 307,
   "id": "1cbdc126-3579-4084-b4a9-09c830c54412",
   "metadata": {},
   "outputs": [
    {
     "ename": "NameError",
     "evalue": "name 'welcome' is not defined",
     "output_type": "error",
     "traceback": [
      "\u001b[1;31m---------------------------------------------------------------------------\u001b[0m",
      "\u001b[1;31mNameError\u001b[0m                                 Traceback (most recent call last)",
      "Cell \u001b[1;32mIn[307], line 1\u001b[0m\n\u001b[1;32m----> 1\u001b[0m welcome()\n",
      "\u001b[1;31mNameError\u001b[0m: name 'welcome' is not defined"
     ]
    }
   ],
   "source": [
    "welcome() # This will give an exception saying it is not defined, means doesn't exist"
   ]
  },
  {
   "cell_type": "code",
   "execution_count": 315,
   "id": "fdc2f69b-45b6-49bb-b3db-7c0cb340f8c4",
   "metadata": {},
   "outputs": [],
   "source": [
    "### Closures \n",
    "def main_welcome():\n",
    "    msg = \"Hello Sumar\"\n",
    "    def welcome_message():\n",
    "        print(msg)\n",
    "        print(\"we can access variables of the parent function from the inner function\")\n",
    "    return welcome_message()\n",
    "    "
   ]
  },
  {
   "cell_type": "code",
   "execution_count": 317,
   "id": "985b29c4-62c7-4223-b847-b327a2ab4777",
   "metadata": {},
   "outputs": [],
   "source": [
    "## now when we call the main_welcome() function we will get the welcome_message() functions because\n",
    "## we have returned the welcome_message() function"
   ]
  },
  {
   "cell_type": "code",
   "execution_count": 319,
   "id": "40cbc3af-bf47-482f-8a1a-c7a1998a71a9",
   "metadata": {},
   "outputs": [
    {
     "name": "stdout",
     "output_type": "stream",
     "text": [
      "Hello Sumar\n",
      "we can access variables of the parent function from the inner function\n"
     ]
    }
   ],
   "source": [
    "main_welcome()"
   ]
  },
  {
   "cell_type": "code",
   "execution_count": 333,
   "id": "c5b92dfa-bbec-4a32-8988-d542439c15c3",
   "metadata": {},
   "outputs": [],
   "source": [
    "### Closures but initial Decorators \n",
    "### We can parse functions as a parameter which is the starting point of decorators\n",
    "def main_welcome(func):\n",
    "    msg = \"Hello Sumar\"\n",
    "    def welcome_message():\n",
    "        func(\"This is a function that is getting printed\")\n",
    "        print(\"we can access variables of the parent function from the inner function\")\n",
    "    return welcome_message()\n",
    "    "
   ]
  },
  {
   "cell_type": "code",
   "execution_count": 335,
   "id": "cd2c8858-248a-4d19-a203-94b0958ad86c",
   "metadata": {},
   "outputs": [
    {
     "name": "stdout",
     "output_type": "stream",
     "text": [
      "This is a function that is getting printed\n",
      "we can access variables of the parent function from the inner function\n"
     ]
    }
   ],
   "source": [
    "main_welcome(print) # we are basically parsing the inbuilt print function"
   ]
  },
  {
   "cell_type": "code",
   "execution_count": 353,
   "id": "9ca144ae-bf3a-4586-a378-4d177646e136",
   "metadata": {},
   "outputs": [],
   "source": [
    "### Decorators\n",
    "### Parsing a custom function inside a function is called Decorators\n",
    "def main_welcome(func):\n",
    "    msg = \"Hello Sumar\"\n",
    "    def welcome_message():\n",
    "        func()\n",
    "        print(\"we can access variables of the parent function from the inner function\")\n",
    "    return welcome_message()\n",
    "### this function takes func as a parameter where we can parse our own function. \n",
    "### It is also called inside subclass of the main class function"
   ]
  },
  {
   "cell_type": "code",
   "execution_count": 397,
   "id": "1e98ca70-8a86-48be-ad16-d4f58f85cd06",
   "metadata": {},
   "outputs": [],
   "source": [
    "#@main_welcome # making this as a decorator where we can use it directly and it will parse the\n",
    "#channel_name \n",
    "# we can also access all the things inside the decorator\n",
    "main_welcome\n",
    "def channel_name():\n",
    "    print(\"This is from the channel name function\")"
   ]
  },
  {
   "cell_type": "code",
   "execution_count": 399,
   "id": "1ddaf9e8-7afe-470e-8f33-90ae4206572d",
   "metadata": {},
   "outputs": [],
   "source": [
    "# Here we will be parsing the channel_name() as a parameter in main_welcome() function "
   ]
  },
  {
   "cell_type": "code",
   "execution_count": 401,
   "id": "952608dd-ef6a-476c-b5e7-a1ef8fefc857",
   "metadata": {},
   "outputs": [
    {
     "name": "stdout",
     "output_type": "stream",
     "text": [
      "This is from the channel name function\n",
      "we can access variables of the parent function from the inner function\n"
     ]
    }
   ],
   "source": [
    "main_welcome(channel_name)"
   ]
  },
  {
   "cell_type": "code",
   "execution_count": 403,
   "id": "8d69725d-d2d4-47eb-9061-c9f0520b7030",
   "metadata": {},
   "outputs": [],
   "source": [
    "# The above mentioned concepts are known as Decorators"
   ]
  },
  {
   "cell_type": "code",
   "execution_count": 405,
   "id": "fbc2e5cf-0fea-4fce-96f6-0d947b989e0c",
   "metadata": {},
   "outputs": [
    {
     "name": "stdout",
     "output_type": "stream",
     "text": [
      "This is from the channel name function\n",
      "we can access variables of the parent function from the inner function\n"
     ]
    }
   ],
   "source": [
    "# we can also initialize the whole thing to a variable \n",
    "a=main_welcome(channel_name)"
   ]
  },
  {
   "cell_type": "markdown",
   "id": "582526d6-250b-4768-b421-ff88f0070cdf",
   "metadata": {},
   "source": [
    "## Class Methods and Class Variables"
   ]
  },
  {
   "cell_type": "code",
   "execution_count": 459,
   "id": "2aa5fcec-e99f-440e-94c1-7c28420d6e58",
   "metadata": {},
   "outputs": [],
   "source": [
    "class Car:\n",
    "    base_price=10000 ## Class Variables\n",
    "    def __init__(self,windows,doors,power):\n",
    "        self.windows=windows\n",
    "        self.doors=doors\n",
    "        self.power=power\n",
    "    def what_base_price():\n",
    "        print(\"The base price is {}\".format(self.base_price))\n",
    "    @classmethod # Creating class methods that can be directly accessed for certain purposes this is \n",
    "    #also a decorator\n",
    "    def revise_base_price(cls,inflation):#we have to use the keyword cls inside the parameter to refer to the class\n",
    "        cls.base_price=cls.base_price+cls.base_price*0.20"
   ]
  },
  {
   "cell_type": "code",
   "execution_count": 461,
   "id": "2667e4bf-9c26-49f9-adae-e72919d041b5",
   "metadata": {},
   "outputs": [
    {
     "data": {
      "text/plain": [
       "10000"
      ]
     },
     "execution_count": 461,
     "metadata": {},
     "output_type": "execute_result"
    }
   ],
   "source": [
    "Car.base_price ## Directly accessing class variables"
   ]
  },
  {
   "cell_type": "code",
   "execution_count": 463,
   "id": "fab744dc-e3bc-4aef-9897-cd8b35bfa57b",
   "metadata": {},
   "outputs": [],
   "source": [
    "Car.revise_base_price(0.20)"
   ]
  },
  {
   "cell_type": "code",
   "execution_count": 465,
   "id": "04904ae3-fdc2-4f3e-9b7b-1f18183c1c1b",
   "metadata": {},
   "outputs": [
    {
     "data": {
      "text/plain": [
       "12000.0"
      ]
     },
     "execution_count": 465,
     "metadata": {},
     "output_type": "execute_result"
    }
   ],
   "source": [
    "Car.base_price"
   ]
  },
  {
   "cell_type": "code",
   "execution_count": 467,
   "id": "c37d4381-12ec-4fbc-a5d6-935ddabadbf5",
   "metadata": {},
   "outputs": [],
   "source": [
    "# this is how we can use class methods to update class variables and do other operations"
   ]
  },
  {
   "cell_type": "markdown",
   "id": "3401855b-f5d1-4467-9c2e-57eb21d17fd8",
   "metadata": {},
   "source": [
    "# Static Method"
   ]
  },
  {
   "cell_type": "code",
   "execution_count": 484,
   "id": "e06f4e86-24a5-426b-8678-2cf17b6ea483",
   "metadata": {},
   "outputs": [],
   "source": [
    "import datetime\n",
    "now = datetime.datetime.now()"
   ]
  },
  {
   "cell_type": "code",
   "execution_count": 508,
   "id": "5ea2f8d6-aea7-46a5-a0ee-9f1a10e0ed99",
   "metadata": {},
   "outputs": [],
   "source": [
    "class Car:\n",
    "    base_price=10000 ## Class Variables\n",
    "    def __init__(self,windows,doors,power):\n",
    "        self.windows=windows\n",
    "        self.doors=doors\n",
    "        self.power=power\n",
    "    def what_base_price():\n",
    "        print(\"The base price is {}\".format(self.base_price))\n",
    "    @classmethod # Creating class methods that can be directly accessed for certain purposes this is \n",
    "    #also a decorator\n",
    "    def revise_base_price(cls,inflation):#we have to use the keyword cls inside the parameter to refer to the class\n",
    "        cls.base_price=cls.base_price+cls.base_price*0.20\n",
    "    @staticmethod # static method doesnt require of parsing self or cls\n",
    "    def check_year(year):\n",
    "        if now.year > year:\n",
    "            print(\"The date is behind the year\")\n",
    "            # calling functions inside a static function \n",
    "            Car.revise_base_price(0.20)\n",
    "        else:\n",
    "            print(\"The date is equal or after the year\")"
   ]
  },
  {
   "cell_type": "code",
   "execution_count": 510,
   "id": "ff5772e5-5447-4761-852d-6d08ca424fd8",
   "metadata": {},
   "outputs": [
    {
     "name": "stdout",
     "output_type": "stream",
     "text": [
      "The date is behind the year\n"
     ]
    }
   ],
   "source": [
    "Car.check_year(2020)"
   ]
  },
  {
   "cell_type": "code",
   "execution_count": 512,
   "id": "cedcf82f-3109-48b6-afe4-e6bdca405350",
   "metadata": {},
   "outputs": [],
   "source": [
    "# This is what the static method does, where there is no need of specifying cls or self"
   ]
  },
  {
   "cell_type": "code",
   "execution_count": 514,
   "id": "6723a3ef-695f-40ea-8942-9419a914b89f",
   "metadata": {},
   "outputs": [
    {
     "data": {
      "text/plain": [
       "12000.0"
      ]
     },
     "execution_count": 514,
     "metadata": {},
     "output_type": "execute_result"
    }
   ],
   "source": [
    "Car.base_price"
   ]
  },
  {
   "cell_type": "markdown",
   "id": "c77a9139-2516-465d-a6ec-b7aadcbf762c",
   "metadata": {},
   "source": [
    "### Multiple Inheritance"
   ]
  },
  {
   "cell_type": "code",
   "execution_count": 517,
   "id": "ada34224-659a-4150-9a2b-3bfe4b712b60",
   "metadata": {},
   "outputs": [],
   "source": [
    "class A:\n",
    "    def method1(self):\n",
    "        print(\"A class method is called\")"
   ]
  },
  {
   "cell_type": "code",
   "execution_count": 519,
   "id": "9b650f88-f4ee-4c60-bcbf-2e626a07d25c",
   "metadata": {},
   "outputs": [],
   "source": [
    "class B(A):\n",
    "    def method1(self):\n",
    "        print(\"B class method is called\")\n",
    "    def method2(self):\n",
    "        print(\"B class method2 is called\")"
   ]
  },
  {
   "cell_type": "code",
   "execution_count": 523,
   "id": "1aaba38c-2ec1-4449-b463-47c82717790e",
   "metadata": {},
   "outputs": [],
   "source": [
    "class C(A):\n",
    "    def method1(self):\n",
    "        print(\"C class method is called\")"
   ]
  },
  {
   "cell_type": "code",
   "execution_count": 536,
   "id": "7cebbdb4-59c9-4cba-8c11-098b4ff142c4",
   "metadata": {},
   "outputs": [],
   "source": [
    "class D(B,C): # we can use a comma and inherit more than one class\n",
    "    def method1(self):\n",
    "        print(\"D class method is called\")\n",
    "        C.method1(self)\n",
    "        B.method1(self)\n",
    "        A.method1(self)\n",
    "# This is how we refer to the classes of the parent classes to call it inside the child class"
   ]
  },
  {
   "cell_type": "code",
   "execution_count": 538,
   "id": "1c680c76-6143-4345-a41a-fd1a8025d569",
   "metadata": {},
   "outputs": [],
   "source": [
    "d=D()"
   ]
  },
  {
   "cell_type": "code",
   "execution_count": 540,
   "id": "2dbaf0e5-2863-4e69-af24-ecbaab654a5f",
   "metadata": {},
   "outputs": [
    {
     "name": "stdout",
     "output_type": "stream",
     "text": [
      "D class method is called\n",
      "C class method is called\n",
      "B class method is called\n",
      "A class method is called\n"
     ]
    }
   ],
   "source": [
    "d.method1() #when we called method1, all the method1 from other inherited class is being called"
   ]
  },
  {
   "cell_type": "code",
   "execution_count": 544,
   "id": "4070ac84-ac9e-4168-8f1b-9be0fe44d3bb",
   "metadata": {},
   "outputs": [
    {
     "name": "stdout",
     "output_type": "stream",
     "text": [
      "B class method is called\n"
     ]
    }
   ],
   "source": [
    "B.method1(d) # calling the parent function class from the child class"
   ]
  },
  {
   "cell_type": "code",
   "execution_count": 547,
   "id": "59670fc2-3f6a-4728-8f0a-f207f6a64f81",
   "metadata": {},
   "outputs": [
    {
     "name": "stdout",
     "output_type": "stream",
     "text": [
      "A class method is called\n"
     ]
    }
   ],
   "source": [
    "A.method1(d)"
   ]
  },
  {
   "cell_type": "markdown",
   "id": "77de7f90-6d15-417e-aa5f-f98d68c1bee5",
   "metadata": {},
   "source": [
    "### Eval() Function\n",
    "Evaluates python expressions which are written as strings. This can run any function or calculation\n",
    "parsed in the form of strings"
   ]
  },
  {
   "cell_type": "code",
   "execution_count": 556,
   "id": "14e970af-3e9e-45fa-8b18-7e4037094689",
   "metadata": {},
   "outputs": [
    {
     "data": {
      "text/plain": [
       "10.0"
      ]
     },
     "execution_count": 556,
     "metadata": {},
     "output_type": "execute_result"
    }
   ],
   "source": [
    "# Eval()\n",
    "eval(\"5*10/5\")"
   ]
  },
  {
   "cell_type": "markdown",
   "id": "bca91133-a1c0-47e5-9ef0-31236cc18d09",
   "metadata": {},
   "source": [
    "### How does Eval() work?\n",
    "1. Parse Python Expression\n",
    "2. Compile into a byte code\n",
    "3. Evaluate the Expression\n",
    "4. Return the Result"
   ]
  },
  {
   "cell_type": "code",
   "execution_count": 560,
   "id": "10589b0e-72f1-4930-8e15-3f6bf2a2d288",
   "metadata": {},
   "outputs": [],
   "source": [
    "# an inbuilt method called compile() is used to convert the expression into byte code"
   ]
  },
  {
   "cell_type": "code",
   "execution_count": 566,
   "id": "f5214490-b6a0-41de-afc5-f45643ef4611",
   "metadata": {},
   "outputs": [],
   "source": [
    "var = compile(\"5+5\",\"<string>\",\"eval\") #this basically gives the expression as a string which is\n",
    "#\"5+5\"\n",
    "# then we are specifying that it is a string\n",
    "#\"<string>\"\n",
    "# then we are specifying which method should take care of this whether it is eval() or exec()"
   ]
  },
  {
   "cell_type": "code",
   "execution_count": 568,
   "id": "84fee11f-4ad8-4834-bc0a-fa56a76d6bad",
   "metadata": {},
   "outputs": [
    {
     "data": {
      "text/plain": [
       "10"
      ]
     },
     "execution_count": 568,
     "metadata": {},
     "output_type": "execute_result"
    }
   ],
   "source": [
    "eval(var)"
   ]
  },
  {
   "cell_type": "markdown",
   "id": "ac388362-d619-45dd-a2bd-ac80c5f3b133",
   "metadata": {},
   "source": [
    "#### Globals Parameter"
   ]
  },
  {
   "cell_type": "code",
   "execution_count": 572,
   "id": "bab03778-73a9-4628-86c7-63226ded34d7",
   "metadata": {},
   "outputs": [],
   "source": [
    "### Globals"
   ]
  },
  {
   "cell_type": "code",
   "execution_count": 574,
   "id": "e4c1daeb-230b-42a8-89e7-f9f54b1f5893",
   "metadata": {},
   "outputs": [
    {
     "data": {
      "text/plain": [
       "160"
      ]
     },
     "execution_count": 574,
     "metadata": {},
     "output_type": "execute_result"
    }
   ],
   "source": [
    "x=10 \n",
    "eval(\"x+50+x**2\",{\"x\":x}) # Here we are writing the expression as a string and in the string \n",
    "# we have something called x which is not defined anywhere in the code, so this will throw and error\n",
    "# we can parse the value of x inside the eval method as a global parameter which follows the \n",
    "# dictionary data structure"
   ]
  },
  {
   "cell_type": "code",
   "execution_count": 576,
   "id": "ddeedc0c-05a2-4125-b789-9cb212531a33",
   "metadata": {},
   "outputs": [],
   "source": [
    "z=100\n",
    "x=200 "
   ]
  },
  {
   "cell_type": "code",
   "execution_count": 578,
   "id": "c598f800-19f6-4fe3-a61b-b82106aac49a",
   "metadata": {},
   "outputs": [
    {
     "data": {
      "text/plain": [
       "300"
      ]
     },
     "execution_count": 578,
     "metadata": {},
     "output_type": "execute_result"
    }
   ],
   "source": [
    "eval(\"x+z\",{\"x\":x,\"z\":z})"
   ]
  },
  {
   "cell_type": "code",
   "execution_count": 580,
   "id": "a32e1373-41f4-48f9-9f6d-9e4c22a2b043",
   "metadata": {},
   "outputs": [],
   "source": [
    "# We can also declare the variables the eval() will get those as variables and run it inside the \n",
    "# eval() function \n",
    "z=100 \n",
    "x=200\n"
   ]
  },
  {
   "cell_type": "code",
   "execution_count": 582,
   "id": "94007ad9-34b4-4f9e-b015-18dcb95eae96",
   "metadata": {},
   "outputs": [
    {
     "data": {
      "text/plain": [
       "300"
      ]
     },
     "execution_count": 582,
     "metadata": {},
     "output_type": "execute_result"
    }
   ],
   "source": [
    "eval(\"x+z\")"
   ]
  },
  {
   "cell_type": "code",
   "execution_count": 584,
   "id": "33a3ecf1-ff86-4bf5-b614-de91e2d8b26f",
   "metadata": {},
   "outputs": [],
   "source": [
    "# Still it will execute fine without any problem"
   ]
  },
  {
   "cell_type": "code",
   "execution_count": 586,
   "id": "27104c20-e1a7-4590-ba8a-79dfc0eb81ca",
   "metadata": {},
   "outputs": [],
   "source": [
    "# We can also perform boolean expressions"
   ]
  },
  {
   "cell_type": "code",
   "execution_count": 588,
   "id": "876d5254-8417-4fec-b9dc-fbe0caf23d37",
   "metadata": {},
   "outputs": [],
   "source": [
    "a=100\n",
    "b=200"
   ]
  },
  {
   "cell_type": "code",
   "execution_count": 590,
   "id": "365e8bfe-a3f2-49a9-9cf4-99a29567e01a",
   "metadata": {},
   "outputs": [
    {
     "data": {
      "text/plain": [
       "True"
      ]
     },
     "execution_count": 590,
     "metadata": {},
     "output_type": "execute_result"
    }
   ],
   "source": [
    "eval(\"b>a\")"
   ]
  },
  {
   "cell_type": "markdown",
   "id": "4b10de77-2271-4895-a6cf-5a3257abc36a",
   "metadata": {},
   "source": [
    " ## Asynchronous Execution\n",
    " - It is basically running different threads or tasks by saving the progress of one particular task\n",
    " - This is also known as multi-threading\n",
    " - Python has two classes that can do this, one is ThreadPoolExecutor & ProgressPoolExecutor"
   ]
  },
  {
   "cell_type": "code",
   "execution_count": 599,
   "id": "95075dc4-c67b-4716-9778-7b43d892a2a9",
   "metadata": {},
   "outputs": [],
   "source": [
    "import time\n",
    "from concurrent.futures import ThreadPoolExecutor\n",
    "def returnnumber(a):\n",
    "    time.sleep(1)\n",
    "    return a"
   ]
  },
  {
   "cell_type": "code",
   "execution_count": 601,
   "id": "ab8af8f3-7f06-4fee-b15e-21e4f26b1662",
   "metadata": {},
   "outputs": [
    {
     "data": {
      "text/plain": [
       "12"
      ]
     },
     "execution_count": 601,
     "metadata": {},
     "output_type": "execute_result"
    }
   ],
   "source": [
    "returnnumber(12)"
   ]
  },
  {
   "cell_type": "code",
   "execution_count": 597,
   "id": "938808ed-ff94-4c79-b943-295fae534991",
   "metadata": {},
   "outputs": [
    {
     "name": "stdout",
     "output_type": "stream",
     "text": [
      "Count: 0\n",
      "Count: 1\n",
      "Count: 2\n",
      "Count: 3\n",
      "Count: 4\n",
      "Count: 5\n",
      "Count: 6\n",
      "Count: 7\n",
      "Count: 8\n",
      "Count: 9\n",
      "Count: 10\n",
      "Count: 11\n",
      "Count: 12\n",
      "Count: 13\n",
      "Count: 14\n",
      "Count: 15\n",
      "Count: 16\n",
      "Count: 17\n",
      "Count: 18\n",
      "Count: 19\n",
      "Count: 20\n",
      "Count: 21\n",
      "Count: 22\n",
      "Count: 23\n",
      "Count: 24\n",
      "Count: 25\n",
      "Count: 26\n",
      "Count: 27\n",
      "Count: 28\n",
      "Count: 29\n",
      "Count: 30\n",
      "Count: 31\n",
      "Count: 32\n",
      "Count: 33\n",
      "Count: 34\n",
      "Count: 35\n",
      "Count: 36\n",
      "Count: 37\n",
      "Count: 38\n",
      "Count: 39\n",
      "Count: 40\n",
      "Count: 41\n",
      "Count: 42\n",
      "Count: 43\n",
      "Count: 44\n",
      "Count: 45\n",
      "Count: 46\n",
      "Count: 47\n",
      "Count: 48\n",
      "Count: 49\n",
      "Count: 50\n",
      "Count: 51\n",
      "Count: 52\n",
      "Count: 53\n",
      "Count: 54\n",
      "Count: 55\n",
      "Count: 56\n",
      "Count: 57\n",
      "Count: 58\n",
      "Count: 59\n",
      "Count: 60\n",
      "Count: 61\n",
      "Count: 62\n",
      "Count: 63\n",
      "Count: 64\n",
      "Count: 65\n",
      "Count: 66\n",
      "Count: 67\n",
      "Count: 68\n",
      "Count: 69\n",
      "Count: 70\n",
      "Count: 71\n",
      "Count: 72\n",
      "Count: 73\n",
      "Count: 74\n",
      "Count: 75\n",
      "Count: 76\n",
      "Count: 77\n",
      "Count: 78\n",
      "Count: 79\n",
      "Count: 80\n",
      "Count: 81\n",
      "Count: 82\n",
      "Count: 83\n",
      "Count: 84\n",
      "Count: 85\n",
      "Count: 86\n",
      "Count: 87\n",
      "Count: 88\n",
      "Count: 89\n",
      "Count: 90\n",
      "Count: 91\n",
      "Count: 92\n",
      "Count: 93\n",
      "Count: 94\n",
      "Count: 95\n",
      "Count: 96\n",
      "Count: 97\n",
      "Count: 98\n",
      "Count: 99\n",
      "The total time 0.008001327514648438\n"
     ]
    }
   ],
   "source": [
    "start=time.time() # This is basically used to calculate the time for the process\n",
    "with ThreadPoolExecutor(max_workers=None) as executor: # max_workers are the number of concurrent\n",
    "    #processes it should run \n",
    "    for result in executor.map(returnnumber,range(100)):\n",
    "        print(\"Count: {0}\".format(result))\n",
    "print(\"The total time {0}\".format(time.time()-start))"
   ]
  },
  {
   "cell_type": "code",
   "execution_count": 603,
   "id": "b9a3f4cc-b541-4e52-a647-92982cac62e1",
   "metadata": {},
   "outputs": [
    {
     "name": "stdout",
     "output_type": "stream",
     "text": [
      "Count: 0\n",
      "Count: 1\n",
      "Count: 2\n",
      "Count: 3\n",
      "Count: 4\n",
      "Count: 5\n",
      "Count: 6\n",
      "Count: 7\n",
      "Count: 8\n",
      "Count: 9\n",
      "Count: 10\n",
      "Count: 11\n",
      "Count: 12\n",
      "Count: 13\n",
      "Count: 14\n",
      "Count: 15\n",
      "Count: 16\n",
      "Count: 17\n",
      "Count: 18\n",
      "Count: 19\n",
      "Count: 20\n",
      "Count: 21\n",
      "Count: 22\n",
      "Count: 23\n",
      "Count: 24\n",
      "Count: 25\n",
      "Count: 26\n",
      "Count: 27\n",
      "Count: 28\n",
      "Count: 29\n",
      "Count: 30\n",
      "Count: 31\n",
      "Count: 32\n",
      "Count: 33\n",
      "Count: 34\n",
      "Count: 35\n",
      "Count: 36\n",
      "Count: 37\n",
      "Count: 38\n",
      "Count: 39\n",
      "Count: 40\n",
      "Count: 41\n",
      "Count: 42\n",
      "Count: 43\n",
      "Count: 44\n",
      "Count: 45\n",
      "Count: 46\n",
      "Count: 47\n",
      "Count: 48\n",
      "Count: 49\n",
      "Count: 50\n",
      "Count: 51\n",
      "Count: 52\n",
      "Count: 53\n",
      "Count: 54\n",
      "Count: 55\n",
      "Count: 56\n",
      "Count: 57\n",
      "Count: 58\n",
      "Count: 59\n",
      "Count: 60\n",
      "Count: 61\n",
      "Count: 62\n",
      "Count: 63\n",
      "Count: 64\n",
      "Count: 65\n",
      "Count: 66\n",
      "Count: 67\n",
      "Count: 68\n",
      "Count: 69\n",
      "Count: 70\n",
      "Count: 71\n",
      "Count: 72\n",
      "Count: 73\n",
      "Count: 74\n",
      "Count: 75\n",
      "Count: 76\n",
      "Count: 77\n",
      "Count: 78\n",
      "Count: 79\n",
      "Count: 80\n",
      "Count: 81\n",
      "Count: 82\n",
      "Count: 83\n",
      "Count: 84\n",
      "Count: 85\n",
      "Count: 86\n",
      "Count: 87\n",
      "Count: 88\n",
      "Count: 89\n",
      "Count: 90\n",
      "Count: 91\n",
      "Count: 92\n",
      "Count: 93\n",
      "Count: 94\n",
      "Count: 95\n",
      "Count: 96\n",
      "Count: 97\n",
      "Count: 98\n",
      "Count: 99\n",
      "The total time 100.04269480705261\n"
     ]
    }
   ],
   "source": [
    "start=time.time() # This is basically used to calculate the time for the process\n",
    "with ThreadPoolExecutor(max_workers=1) as executor: # max_workers are the number of concurrent\n",
    "    #processes it should run \n",
    "    for result in executor.map(returnnumber,range(100)):\n",
    "        print(\"Count: {0}\".format(result))\n",
    "print(\"The total time {0}\".format(time.time()-start))\n",
    "# Playing with different max_workers, more amount of max_workers will increase the speed of execution\n"
   ]
  },
  {
   "cell_type": "code",
   "execution_count": 604,
   "id": "d817d3d5-8dbc-44f6-bb7a-fba20e622154",
   "metadata": {},
   "outputs": [],
   "source": [
    "# The number of execution that is doing now is 1 by 1 because the max_workers is set to 1"
   ]
  },
  {
   "cell_type": "markdown",
   "id": "29c34f3a-2db7-476b-b133-d01175f33eb0",
   "metadata": {},
   "source": [
    "## Zip() Function-Parallel Iteration"
   ]
  },
  {
   "cell_type": "code",
   "execution_count": 632,
   "id": "04003c97-e503-499e-956d-4f03ebffcdaa",
   "metadata": {},
   "outputs": [],
   "source": [
    "#zip() basically does parallel iteration from different lists and creates \n",
    "#tuples from the lists as tuples whereas for an example the 0th element of the first list and the\n",
    "#0th element of the second list will be made as a tuple\n",
    "\n",
    "#we can iterate through multiple iterables"
   ]
  },
  {
   "cell_type": "code",
   "execution_count": 634,
   "id": "f1b95856-b1ad-4ce3-a884-8db367efa2d6",
   "metadata": {},
   "outputs": [
    {
     "name": "stdout",
     "output_type": "stream",
     "text": [
      "<class 'zip'>\n",
      "1 4\n",
      "2 5\n",
      "3 6\n",
      "4 7\n"
     ]
    }
   ],
   "source": [
    "lst1 = [1,2,3,4]\n",
    "lst2 = [4,5,6,7]\n",
    "\n",
    "output=zip(lst1,lst2)\n",
    "print(type(output))\n",
    "\n",
    "for i,j in output:\n",
    "    print(i,j)\n"
   ]
  },
  {
   "cell_type": "code",
   "execution_count": 636,
   "id": "2b06a9c7-ac28-43a3-aad6-978cb4f8c1cf",
   "metadata": {},
   "outputs": [],
   "source": [
    "# It prints it all the values in both list by taking the respective indexes"
   ]
  },
  {
   "cell_type": "code",
   "execution_count": 638,
   "id": "275ae4cc-d1ce-4e17-877e-1e44b5a73ef2",
   "metadata": {},
   "outputs": [
    {
     "data": {
      "text/plain": [
       "<zip at 0x249ee0ef980>"
      ]
     },
     "execution_count": 638,
     "metadata": {},
     "output_type": "execute_result"
    }
   ],
   "source": [
    "zip(lst1,lst2)"
   ]
  },
  {
   "cell_type": "code",
   "execution_count": 640,
   "id": "6099165c-f71d-4210-a92d-9e8de110531a",
   "metadata": {},
   "outputs": [
    {
     "data": {
      "text/plain": [
       "[(1, 4), (2, 5), (3, 6), (4, 7)]"
      ]
     },
     "execution_count": 640,
     "metadata": {},
     "output_type": "execute_result"
    }
   ],
   "source": [
    "list(zip(lst1,lst2))"
   ]
  },
  {
   "cell_type": "code",
   "execution_count": 642,
   "id": "63910f83-5650-4073-b1cf-bc41e626c752",
   "metadata": {},
   "outputs": [],
   "source": [
    "# This is how it create types of the the data of different sets matching their indexes"
   ]
  },
  {
   "cell_type": "code",
   "execution_count": 644,
   "id": "0c80403b-359f-461b-a311-c657a5ec235a",
   "metadata": {},
   "outputs": [
    {
     "data": {
      "text/plain": [
       "zip"
      ]
     },
     "execution_count": 644,
     "metadata": {},
     "output_type": "execute_result"
    }
   ],
   "source": [
    "type(zip())"
   ]
  },
  {
   "cell_type": "code",
   "execution_count": 646,
   "id": "1e419808-1cee-4689-8eca-5be4caa12cd0",
   "metadata": {},
   "outputs": [
    {
     "name": "stdout",
     "output_type": "stream",
     "text": [
      "<class 'list'>\n"
     ]
    }
   ],
   "source": [
    "print(type(lst1))"
   ]
  },
  {
   "cell_type": "code",
   "execution_count": 648,
   "id": "9e94b206-1b33-42b4-b31a-cc945fcca708",
   "metadata": {},
   "outputs": [],
   "source": [
    "# We can also use zip() also with dictionaries"
   ]
  },
  {
   "cell_type": "code",
   "execution_count": 650,
   "id": "ef419224-57a5-4e6e-81f7-d47d6da65c3e",
   "metadata": {},
   "outputs": [],
   "source": [
    "dict1={'name':'Sumar','last_name':'Fawaz','age':30}\n",
    "dict2={'name':'Alpha','last_name':'Beta','age':23}"
   ]
  },
  {
   "cell_type": "code",
   "execution_count": 652,
   "id": "017276e8-3b2c-4865-b750-1d916193efdf",
   "metadata": {},
   "outputs": [],
   "source": [
    "dictionary=zip(dict1.items(),dict2.items())"
   ]
  },
  {
   "cell_type": "code",
   "execution_count": 654,
   "id": "8158d14f-ac76-4957-ba2d-9abc0061b459",
   "metadata": {},
   "outputs": [
    {
     "name": "stdout",
     "output_type": "stream",
     "text": [
      "name Sumar\n",
      "name Alpha\n",
      "last_name Fawaz\n",
      "last_name Beta\n",
      "age 30\n",
      "age 23\n"
     ]
    }
   ],
   "source": [
    "for (i,j),(i2,j2) in dictionary:\n",
    "    print(i,j)\n",
    "    print(i2,j2)\n",
    "# we are basically iterating through both the items in the dict1 and dict2 through a for loop"
   ]
  },
  {
   "cell_type": "markdown",
   "id": "08c1f6ca-7d17-427f-af72-93de1bf41e0f",
   "metadata": {},
   "source": [
    "## Logging "
   ]
  },
  {
   "cell_type": "code",
   "execution_count": 2,
   "id": "f1cf777a-7032-487e-83f8-71d7ed79fd20",
   "metadata": {},
   "outputs": [],
   "source": [
    "import logging #importing logging class"
   ]
  },
  {
   "cell_type": "code",
   "execution_count": 4,
   "id": "8277b84b-6e6f-4138-af8f-91f451c08b1b",
   "metadata": {},
   "outputs": [],
   "source": [
    "#giving the basic txt file config"
   ]
  },
  {
   "cell_type": "code",
   "execution_count": 6,
   "id": "703c92a3-b6f3-4348-87d5-5d2bbf1f9ce2",
   "metadata": {},
   "outputs": [],
   "source": [
    "logging.basicConfig(filename=\"log.txt\",filemode='a',format='%(asctime)s %(levelname)s-%(message)s',\n",
    "                   datefmt='%Y-%m-%d %H:%M:%S') # this is basic file rules or config"
   ]
  },
  {
   "cell_type": "code",
   "execution_count": 8,
   "id": "02674097-666a-4090-973b-932a1bc0ee03",
   "metadata": {},
   "outputs": [],
   "source": [
    "for i in range(0,15):\n",
    "    if i%2==0:\n",
    "        logging.warning('Log Warning Message')\n",
    "    elif i%3==0:\n",
    "        logging.critical('Log Critical Message')\n",
    "    else:\n",
    "        logging.error('Log Error Message')\n",
    "#here we are logging several different logs with different criticality like warning,critical and error\n",
    "        "
   ]
  },
  {
   "cell_type": "markdown",
   "id": "edfbe84a-e7f5-4881-8ef6-2d4ce5b547a5",
   "metadata": {},
   "source": [
    "## SHA, ( Secure Hash Algorithms )- Base Of BlockChain ties."
   ]
  },
  {
   "cell_type": "markdown",
   "id": "6c138675-f64b-4c0c-9d90-180ab8dfcdcf",
   "metadata": {},
   "source": [
    "1. SHA256 : This hash function belong to hash class SHA-2, the internal block size of it is 32 bits."
   ]
  },
  {
   "cell_type": "markdown",
   "id": "cdd46947-7ddf-489a-bbf2-634d0f51b919",
   "metadata": {},
   "source": [
    "2. SHA384 : This hash function belong to hash class SHA-2, the internal block size of it is 32 bits. This is one of the truncated version."
   ]
  },
  {
   "cell_type": "markdown",
   "id": "5e10720f-b04f-4042-a292-77d5ce53e56d",
   "metadata": {},
   "source": [
    "3. SHA224 : This hash function belong to hash class SHA-2, the internal block size of it is 32 bits. This is one of the truncated version."
   ]
  },
  {
   "cell_type": "markdown",
   "id": "79903c0f-37f7-48f6-a48d-0623e5c47eb7",
   "metadata": {},
   "source": [
    "4. SHA512 : This hash function belong to hash class SHA-2, the internal block size of it is 64 bits."
   ]
  },
  {
   "cell_type": "markdown",
   "id": "6e42355b-20cc-4df6-90c8-71f9229021a3",
   "metadata": {},
   "source": [
    "5. SHA1 : The 160 bit hash function that resembles MD5 hash in working and was discontinued to be used seeing its security vulnerabilities."
   ]
  },
  {
   "cell_type": "code",
   "execution_count": 28,
   "id": "484681e3-a6c7-461e-bb4c-5855e28d5966",
   "metadata": {},
   "outputs": [],
   "source": [
    "import hashlib\n"
   ]
  },
  {
   "cell_type": "markdown",
   "id": "b08bfe0f-bac6-4e1c-9b40-626857bf2bfe",
   "metadata": {},
   "source": [
    "### SHA256"
   ]
  },
  {
   "cell_type": "code",
   "execution_count": 32,
   "id": "3fd792f9-3216-420c-8412-9d1e45c0dbc7",
   "metadata": {},
   "outputs": [
    {
     "name": "stdout",
     "output_type": "stream",
     "text": [
      "<sha256 _hashlib.HASH object @ 0x00000203DC49F350>\n"
     ]
    }
   ],
   "source": [
    "str1=\"Sumar Fawaz\"\n",
    "### Process of Hashing\n",
    "### First step is to encode\n",
    "### Then Apply hashing Algorithms\n",
    "hashedval = hashlib.sha256(str1.encode()) \n",
    "print(hashedval)"
   ]
  },
  {
   "cell_type": "code",
   "execution_count": 34,
   "id": "960badb4-6354-478f-b83a-b3091990519d",
   "metadata": {},
   "outputs": [
    {
     "data": {
      "text/plain": [
       "'f7cbe5e99b52ed6e10841f049d5701a4ba2e7599677ec8645d9be35ef314ebb0'"
      ]
     },
     "execution_count": 34,
     "metadata": {},
     "output_type": "execute_result"
    }
   ],
   "source": [
    "###convert this value to hexadecimal\n",
    "hashedval.hexdigest()"
   ]
  },
  {
   "cell_type": "markdown",
   "id": "bc8c9e60-1015-4ee4-a9ea-8d5b2ca779b2",
   "metadata": {},
   "source": [
    "### SHA384"
   ]
  },
  {
   "cell_type": "code",
   "execution_count": 41,
   "id": "2d3d2165-c6bd-44f8-9372-313e9f33f2e6",
   "metadata": {},
   "outputs": [
    {
     "data": {
      "text/plain": [
       "'7468cb7c496eff00167682113e1ed2ee9accb423780f31723199d924c07771b3e0712bd32691795178a90c0b337245bf'"
      ]
     },
     "execution_count": 41,
     "metadata": {},
     "output_type": "execute_result"
    }
   ],
   "source": [
    "hashedval=hashlib.sha384(str1.encode()) \n",
    "hashedval.hexdigest()"
   ]
  },
  {
   "cell_type": "markdown",
   "id": "fa1b4d6c-2de6-4e14-8e0d-e3f9a5ea049d",
   "metadata": {},
   "source": [
    "## SHA224\r\n"
   ]
  },
  {
   "cell_type": "code",
   "execution_count": 44,
   "id": "b3b2b49a-7561-4e9b-a1ae-6b375f4da88f",
   "metadata": {},
   "outputs": [
    {
     "data": {
      "text/plain": [
       "'6bca5b435c24bdac3793df4e45331e29cbd96a9b42c87b2209d5a953'"
      ]
     },
     "execution_count": 44,
     "metadata": {},
     "output_type": "execute_result"
    }
   ],
   "source": [
    "hashedval=hashlib.sha224(str1.encode()) \n",
    "hashedval.hexdigest()"
   ]
  },
  {
   "cell_type": "markdown",
   "id": "0bdaa67d-f0fa-4223-bebb-dbba1796d83d",
   "metadata": {},
   "source": [
    "## SHA512"
   ]
  },
  {
   "cell_type": "code",
   "execution_count": 47,
   "id": "8343dc67-62f2-49ca-81f6-09b2cf1c1405",
   "metadata": {},
   "outputs": [
    {
     "data": {
      "text/plain": [
       "'0a187b278b505db626f99e78adfe53f458ae67a0e3b6a8fb06520ed76b5e09dbce5700ad62e5659b51dfa86a37e977b509f88ebe5ee8d3f67f74891c3445c0b7'"
      ]
     },
     "execution_count": 47,
     "metadata": {},
     "output_type": "execute_result"
    }
   ],
   "source": [
    "hashedval=hashlib.sha512(str1.encode()) \n",
    "hashedval.hexdigest()"
   ]
  },
  {
   "cell_type": "code",
   "execution_count": 49,
   "id": "1ee399ab-69fd-48e7-8c51-bea49a9fc436",
   "metadata": {},
   "outputs": [
    {
     "data": {
      "text/plain": [
       "'f9a99189861570cb046a9b45c44a4ee7544474dc'"
      ]
     },
     "execution_count": 49,
     "metadata": {},
     "output_type": "execute_result"
    }
   ],
   "source": [
    "hashedval=hashlib.sha1(str1.encode()) \n",
    "hashedval.hexdigest()"
   ]
  },
  {
   "cell_type": "markdown",
   "id": "2da008c8-224d-4dbb-8ba5-2a80cbe925cc",
   "metadata": {},
   "source": [
    "# Public, Protected, and Private access modifiers"
   ]
  },
  {
   "cell_type": "code",
   "execution_count": 52,
   "id": "8a890456-8574-403f-b49d-ec159aaf4a8e",
   "metadata": {},
   "outputs": [],
   "source": [
    "### All the class variables are public\n",
    "class Car():\n",
    "    def __init__(self,windows,doors,enginetype):\n",
    "        self.windows=windows\n",
    "        self.doors=doors\n",
    "        self.enginetype=enginetype"
   ]
  },
  {
   "cell_type": "code",
   "execution_count": 54,
   "id": "20f8aade-1e39-4dbc-9b4b-6cf6860080bf",
   "metadata": {},
   "outputs": [],
   "source": [
    "audi=Car(4,5,\"Diesel\")"
   ]
  },
  {
   "cell_type": "code",
   "execution_count": 56,
   "id": "0a8e1dd4-09a5-4891-b1a8-380325f77cbf",
   "metadata": {},
   "outputs": [],
   "source": [
    "audi.windows=5"
   ]
  },
  {
   "cell_type": "code",
   "execution_count": 66,
   "id": "473de8ea-cc7d-4709-a932-aac341327000",
   "metadata": {},
   "outputs": [],
   "source": [
    "### All the class variables are protected. can be only accessed using Subclasses\n",
    "### They are declared using only one underscore\n",
    "class Car():\n",
    "    def __init__(self,windows,doors,enginetype):\n",
    "        self._windows=windows\n",
    "        self._doors=doors\n",
    "        self._enginetype=enginetype"
   ]
  },
  {
   "cell_type": "code",
   "execution_count": 68,
   "id": "fb71c9dd-5490-4a2b-98ce-0daa3f78b86a",
   "metadata": {},
   "outputs": [],
   "source": [
    "class Truck(Car):\n",
    "    def __init__(self,windows,doors,enginetype,horsepower):\n",
    "        super().__init__(windows,doors,enginetype)\n",
    "        self.horsepowwer=horsepower"
   ]
  },
  {
   "cell_type": "code",
   "execution_count": 64,
   "id": "e3edf4b1-ba0b-4032-9ab9-efe38c384400",
   "metadata": {},
   "outputs": [
    {
     "data": {
      "text/plain": [
       "['__class__',\n",
       " '__delattr__',\n",
       " '__dict__',\n",
       " '__dir__',\n",
       " '__doc__',\n",
       " '__eq__',\n",
       " '__format__',\n",
       " '__ge__',\n",
       " '__getattribute__',\n",
       " '__getstate__',\n",
       " '__gt__',\n",
       " '__hash__',\n",
       " '__init__',\n",
       " '__init_subclass__',\n",
       " '__le__',\n",
       " '__lt__',\n",
       " '__module__',\n",
       " '__ne__',\n",
       " '__new__',\n",
       " '__reduce__',\n",
       " '__reduce_ex__',\n",
       " '__repr__',\n",
       " '__setattr__',\n",
       " '__sizeof__',\n",
       " '__str__',\n",
       " '__subclasshook__',\n",
       " '__weakref__',\n",
       " '_doors',\n",
       " '_enginetype',\n",
       " '_windows',\n",
       " 'horsepowwer']"
      ]
     },
     "execution_count": 64,
     "metadata": {},
     "output_type": "execute_result"
    }
   ],
   "source": [
    "truck=Truck(4,4,\"Diesel\",4000)\n",
    "dir(truck)"
   ]
  },
  {
   "cell_type": "code",
   "execution_count": 70,
   "id": "87d3b152-2fd4-4b5d-b135-6aa73598eb6a",
   "metadata": {},
   "outputs": [],
   "source": [
    "truck._doors=5\n"
   ]
  },
  {
   "cell_type": "code",
   "execution_count": 72,
   "id": "92638815-3c86-427b-bc83-210895f1094f",
   "metadata": {},
   "outputs": [
    {
     "data": {
      "text/plain": [
       "5"
      ]
     },
     "execution_count": 72,
     "metadata": {},
     "output_type": "execute_result"
    }
   ],
   "source": [
    "truck._doors\n"
   ]
  },
  {
   "cell_type": "code",
   "execution_count": 76,
   "id": "91148fcf-d208-42c5-a1df-057b8c758468",
   "metadata": {},
   "outputs": [],
   "source": [
    "### private variables can only be changed from that particular class but python just gives it \n",
    "### as an indication to the developer that it is private and can only be changed within that class\n",
    "### it is declared using 2 underscores\n",
    "class Car():\n",
    "    def __init__(self,windows,doors,enginetype):\n",
    "        self.__windows=windows\n",
    "        self.__doors=doors\n",
    "        self.__enginetype=enginetype"
   ]
  },
  {
   "cell_type": "code",
   "execution_count": 81,
   "id": "7ebbe61f-7ca1-46a4-890c-4302fafd5df3",
   "metadata": {},
   "outputs": [],
   "source": [
    "audi._Car__doors=5"
   ]
  },
  {
   "cell_type": "code",
   "execution_count": 85,
   "id": "a4accf45-808e-4039-b003-965b02b12338",
   "metadata": {},
   "outputs": [
    {
     "data": {
      "text/plain": [
       "5"
      ]
     },
     "execution_count": 85,
     "metadata": {},
     "output_type": "execute_result"
    }
   ],
   "source": [
    "audi._Car__doors\n",
    "#still it can be changed because python doesn't impose strong restrictions"
   ]
  },
  {
   "cell_type": "code",
   "execution_count": 87,
   "id": "9e7464cd-c8e2-435b-9008-517346e49696",
   "metadata": {},
   "outputs": [
    {
     "data": {
      "text/plain": [
       "['_Car__doors',\n",
       " '__class__',\n",
       " '__delattr__',\n",
       " '__dict__',\n",
       " '__dir__',\n",
       " '__doc__',\n",
       " '__eq__',\n",
       " '__format__',\n",
       " '__ge__',\n",
       " '__getattribute__',\n",
       " '__getstate__',\n",
       " '__gt__',\n",
       " '__hash__',\n",
       " '__init__',\n",
       " '__init_subclass__',\n",
       " '__le__',\n",
       " '__lt__',\n",
       " '__module__',\n",
       " '__ne__',\n",
       " '__new__',\n",
       " '__reduce__',\n",
       " '__reduce_ex__',\n",
       " '__repr__',\n",
       " '__setattr__',\n",
       " '__sizeof__',\n",
       " '__str__',\n",
       " '__subclasshook__',\n",
       " '__weakref__',\n",
       " 'doors',\n",
       " 'enginetype',\n",
       " 'windows']"
      ]
     },
     "execution_count": 87,
     "metadata": {},
     "output_type": "execute_result"
    }
   ],
   "source": [
    "dir(audi)\n"
   ]
  },
  {
   "cell_type": "code",
   "execution_count": null,
   "id": "ad71f7a9-6fb7-4ec3-9cff-f781d695731c",
   "metadata": {},
   "outputs": [],
   "source": []
  }
 ],
 "metadata": {
  "kernelspec": {
   "display_name": "Python 3 (ipykernel)",
   "language": "python",
   "name": "python3"
  },
  "language_info": {
   "codemirror_mode": {
    "name": "ipython",
    "version": 3
   },
   "file_extension": ".py",
   "mimetype": "text/x-python",
   "name": "python",
   "nbconvert_exporter": "python",
   "pygments_lexer": "ipython3",
   "version": "3.12.4"
  }
 },
 "nbformat": 4,
 "nbformat_minor": 5
}
