{
 "cells": [
  {
   "cell_type": "markdown",
   "id": "75e10b39-96ab-47e7-babf-48c621dc32df",
   "metadata": {},
   "source": [
    "## Logging "
   ]
  },
  {
   "cell_type": "code",
   "execution_count": 4,
   "id": "d3f1411e-2094-4f39-a808-fe3239fb1ebd",
   "metadata": {},
   "outputs": [],
   "source": [
    "import logging #importing logging class"
   ]
  },
  {
   "cell_type": "code",
   "execution_count": 6,
   "id": "f0addcf4-ae93-4e86-8ee1-f082bdcd455b",
   "metadata": {},
   "outputs": [],
   "source": [
    "#giving the basic txt file config"
   ]
  },
  {
   "cell_type": "code",
   "execution_count": 12,
   "id": "53452246-5fe3-4689-8d84-58b5ec6f55d3",
   "metadata": {},
   "outputs": [],
   "source": [
    "logging.basicConfig(filename=\"log.txt\",filemode='a',format='%(asctime)s %(levelname)s-%(message)s',\n",
    "                   datefmt='%Y-%m-%d %H:%M:%S') # this is basic file rules or config"
   ]
  },
  {
   "cell_type": "code",
   "execution_count": 16,
   "id": "7d95161d-fa66-4e78-bee7-ef896e5dbb39",
   "metadata": {},
   "outputs": [],
   "source": [
    "for i in range(0,15):\n",
    "    if i%2==0:\n",
    "        logging.warning('Log Warning Message')\n",
    "    elif i%3==0:\n",
    "        logging.critical('Log Critical Message')\n",
    "    else:\n",
    "        logging.error('Log Error Message')\n",
    "#here we are logging several different logs with different criticality like warning,critical and error\n",
    "        "
   ]
  },
  {
   "cell_type": "code",
   "execution_count": null,
   "id": "e2f64597-1161-44ae-a8d2-befe46ca2e80",
   "metadata": {},
   "outputs": [],
   "source": []
  }
 ],
 "metadata": {
  "kernelspec": {
   "display_name": "Python 3 (ipykernel)",
   "language": "python",
   "name": "python3"
  },
  "language_info": {
   "codemirror_mode": {
    "name": "ipython",
    "version": 3
   },
   "file_extension": ".py",
   "mimetype": "text/x-python",
   "name": "python",
   "nbconvert_exporter": "python",
   "pygments_lexer": "ipython3",
   "version": "3.12.4"
  }
 },
 "nbformat": 4,
 "nbformat_minor": 5
}
