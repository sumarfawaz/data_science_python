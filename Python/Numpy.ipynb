{
 "cells": [
  {
   "cell_type": "markdown",
   "id": "0e87ed89-aac2-409d-8468-37f6d035a12a",
   "metadata": {},
   "source": [
    "# Numpy Tutorials\n",
    "- Numpy is a general-purpose array-processing package. It provides a high-performance multidimensional array object, and tools for working with these arrays. It is the fundamental package for scientific computing with python"
   ]
  },
  {
   "cell_type": "markdown",
   "id": "82932b80-9f74-4369-9992-967b611fbc75",
   "metadata": {},
   "source": [
    "## Difference between Array and List\n",
    "- An array can only save values of the same data type, while Lists can save data of different data types."
   ]
  },
  {
   "cell_type": "code",
   "execution_count": 9,
   "id": "f3c2db0d-4007-41a8-835a-65b21a3c7c6b",
   "metadata": {},
   "outputs": [],
   "source": [
    "import numpy as np"
   ]
  },
  {
   "cell_type": "code",
   "execution_count": 15,
   "id": "550384c6-0159-4542-a0b4-99ce28aec3a5",
   "metadata": {},
   "outputs": [],
   "source": [
    "my_list = [1,2,3,4]\n",
    "\n",
    "## Converting a List to Array using numpy\n",
    "arr = np.array(my_list)"
   ]
  },
  {
   "cell_type": "code",
   "execution_count": 17,
   "id": "050181c0-e579-419b-aaa6-cf3e27c23900",
   "metadata": {},
   "outputs": [
    {
     "data": {
      "text/plain": [
       "numpy.ndarray"
      ]
     },
     "execution_count": 17,
     "metadata": {},
     "output_type": "execute_result"
    }
   ],
   "source": [
    "type(arr)"
   ]
  },
  {
   "cell_type": "code",
   "execution_count": 19,
   "id": "c54f1134-2762-4545-ad1b-c12271dced47",
   "metadata": {},
   "outputs": [
    {
     "name": "stdout",
     "output_type": "stream",
     "text": [
      "[1 2 3 4]\n"
     ]
    }
   ],
   "source": [
    "print(arr)"
   ]
  },
  {
   "cell_type": "code",
   "execution_count": 21,
   "id": "1322a331-0508-488f-a33c-073519e99094",
   "metadata": {},
   "outputs": [
    {
     "data": {
      "text/plain": [
       "array([1, 2, 3, 4])"
      ]
     },
     "execution_count": 21,
     "metadata": {},
     "output_type": "execute_result"
    }
   ],
   "source": [
    "arr"
   ]
  },
  {
   "cell_type": "code",
   "execution_count": 31,
   "id": "b5913417-e326-4acd-a8de-8dfe9a861833",
   "metadata": {},
   "outputs": [
    {
     "data": {
      "text/plain": [
       "(4,)"
      ]
     },
     "execution_count": 31,
     "metadata": {},
     "output_type": "execute_result"
    }
   ],
   "source": [
    "## Check the dimension of the array \n",
    "arr.shape"
   ]
  },
  {
   "cell_type": "code",
   "execution_count": 33,
   "id": "05c26cc5-bbfc-4ba7-9a1e-4f42c638908e",
   "metadata": {},
   "outputs": [],
   "source": [
    "## Creating a multidimensional array \n",
    "\n",
    "my_lst1 = [1,2,3,4,5]\n",
    "my_lst2 = [6,7,8,9,10]\n",
    "my_lst3 = [11,12,13,14,15]\n",
    "\n",
    "arr = np.array([my_lst1,my_lst2,my_lst3])"
   ]
  },
  {
   "cell_type": "code",
   "execution_count": 35,
   "id": "308c6200-d646-4a25-9065-452c6a6ab8dd",
   "metadata": {},
   "outputs": [
    {
     "data": {
      "text/plain": [
       "array([[ 1,  2,  3,  4,  5],\n",
       "       [ 6,  7,  8,  9, 10],\n",
       "       [11, 12, 13, 14, 15]])"
      ]
     },
     "execution_count": 35,
     "metadata": {},
     "output_type": "execute_result"
    }
   ],
   "source": [
    "arr"
   ]
  },
  {
   "cell_type": "code",
   "execution_count": 39,
   "id": "01affa3e-5126-4af5-a224-5d7ac721334d",
   "metadata": {},
   "outputs": [
    {
     "data": {
      "text/plain": [
       "(3, 5)"
      ]
     },
     "execution_count": 39,
     "metadata": {},
     "output_type": "execute_result"
    }
   ],
   "source": [
    "## First shows the rows and then the columns, row * column = elements in the array\n",
    "arr.shape\n"
   ]
  },
  {
   "cell_type": "code",
   "execution_count": 41,
   "id": "b9b215a5-a216-47dc-bfd1-73307a140abe",
   "metadata": {},
   "outputs": [
    {
     "data": {
      "text/plain": [
       "array([[ 1,  2,  3],\n",
       "       [ 4,  5,  6],\n",
       "       [ 7,  8,  9],\n",
       "       [10, 11, 12],\n",
       "       [13, 14, 15]])"
      ]
     },
     "execution_count": 41,
     "metadata": {},
     "output_type": "execute_result"
    }
   ],
   "source": [
    "## Reshaping the array will not change the elements in the array \n",
    "arr.reshape(5,3)\n"
   ]
  },
  {
   "cell_type": "markdown",
   "id": "9a3e6228-706c-4b26-86b9-39cff67eb525",
   "metadata": {},
   "source": [
    "## Indexing "
   ]
  },
  {
   "cell_type": "code",
   "execution_count": 44,
   "id": "4cfcdbd4-c442-404e-b361-1f0c674e95e8",
   "metadata": {},
   "outputs": [
    {
     "data": {
      "text/plain": [
       "array([[ 1,  2,  3,  4,  5],\n",
       "       [ 6,  7,  8,  9, 10],\n",
       "       [11, 12, 13, 14, 15]])"
      ]
     },
     "execution_count": 44,
     "metadata": {},
     "output_type": "execute_result"
    }
   ],
   "source": [
    "## Accessing the array elements\n",
    "arr"
   ]
  },
  {
   "cell_type": "code",
   "execution_count": 59,
   "id": "ee760caf-d457-496b-8016-bc75a611df56",
   "metadata": {},
   "outputs": [
    {
     "data": {
      "text/plain": [
       "array([1, 2, 3, 4, 5])"
      ]
     },
     "execution_count": 59,
     "metadata": {},
     "output_type": "execute_result"
    }
   ],
   "source": [
    "arr[0]"
   ]
  },
  {
   "cell_type": "code",
   "execution_count": 61,
   "id": "d44024fa-6d0a-4fe3-932b-c949da13d3da",
   "metadata": {},
   "outputs": [
    {
     "data": {
      "text/plain": [
       "7"
      ]
     },
     "execution_count": 61,
     "metadata": {},
     "output_type": "execute_result"
    }
   ],
   "source": [
    "arr[1][1]"
   ]
  },
  {
   "cell_type": "code",
   "execution_count": 67,
   "id": "cb79c35f-c0e9-462e-9612-fac7d5bea2b5",
   "metadata": {},
   "outputs": [
    {
     "data": {
      "text/plain": [
       "array([[1, 2],\n",
       "       [6, 7]])"
      ]
     },
     "execution_count": 67,
     "metadata": {},
     "output_type": "execute_result"
    }
   ],
   "source": [
    "## Selecting Specific rows and columns in Array\n",
    "\n",
    "arr[0:2,0:2]"
   ]
  },
  {
   "cell_type": "code",
   "execution_count": 69,
   "id": "8e9a2be5-5132-4452-8d92-4b78c03031a0",
   "metadata": {},
   "outputs": [
    {
     "data": {
      "text/plain": [
       "array([[ 1,  2,  3,  4,  5],\n",
       "       [ 6,  7,  8,  9, 10],\n",
       "       [11, 12, 13, 14, 15]])"
      ]
     },
     "execution_count": 69,
     "metadata": {},
     "output_type": "execute_result"
    }
   ],
   "source": [
    "arr"
   ]
  },
  {
   "cell_type": "code",
   "execution_count": 75,
   "id": "00ef09ca-4b12-40ed-84c2-d9bfb676f8cc",
   "metadata": {},
   "outputs": [
    {
     "data": {
      "text/plain": [
       "array([[ 8,  9],\n",
       "       [13, 14]])"
      ]
     },
     "execution_count": 75,
     "metadata": {},
     "output_type": "execute_result"
    }
   ],
   "source": [
    "arr[1:,2:4]"
   ]
  },
  {
   "cell_type": "code",
   "execution_count": 77,
   "id": "a25440b4-5902-4409-ac83-dcaef7b91c3f",
   "metadata": {},
   "outputs": [
    {
     "data": {
      "text/plain": [
       "array([[ 7,  8,  9],\n",
       "       [12, 13, 14]])"
      ]
     },
     "execution_count": 77,
     "metadata": {},
     "output_type": "execute_result"
    }
   ],
   "source": [
    "arr[1:,1:4]"
   ]
  },
  {
   "cell_type": "code",
   "execution_count": 85,
   "id": "417977e1-49da-4e57-bb10-3bc8bc80fa1b",
   "metadata": {},
   "outputs": [],
   "source": [
    "## Using arange() to create arrays automatically within a range \n",
    "\n",
    "arr = np.arange(0,10)"
   ]
  },
  {
   "cell_type": "code",
   "execution_count": 87,
   "id": "5b96badb-46c0-4e44-b5f8-ed8e397228d2",
   "metadata": {},
   "outputs": [
    {
     "data": {
      "text/plain": [
       "array([0, 1, 2, 3, 4, 5, 6, 7, 8, 9])"
      ]
     },
     "execution_count": 87,
     "metadata": {},
     "output_type": "execute_result"
    }
   ],
   "source": [
    "arr"
   ]
  },
  {
   "cell_type": "code",
   "execution_count": 89,
   "id": "8590387e-7b24-428c-bc58-159565a69435",
   "metadata": {},
   "outputs": [],
   "source": [
    "## Using arange() to create arrays automatically within a range and use step parameter to specify gap\n",
    "\n",
    "arr = np.arange(0,10, step=2)"
   ]
  },
  {
   "cell_type": "code",
   "execution_count": 91,
   "id": "fbee9884-3157-497f-9fc8-d5b74ee64647",
   "metadata": {},
   "outputs": [
    {
     "data": {
      "text/plain": [
       "array([0, 2, 4, 6, 8])"
      ]
     },
     "execution_count": 91,
     "metadata": {},
     "output_type": "execute_result"
    }
   ],
   "source": [
    "arr"
   ]
  },
  {
   "cell_type": "code",
   "execution_count": 93,
   "id": "4f30aefc-fcb5-4e5d-a35f-2cbc7f19cd87",
   "metadata": {},
   "outputs": [
    {
     "data": {
      "text/plain": [
       "array([ 0.        ,  0.20408163,  0.40816327,  0.6122449 ,  0.81632653,\n",
       "        1.02040816,  1.2244898 ,  1.42857143,  1.63265306,  1.83673469,\n",
       "        2.04081633,  2.24489796,  2.44897959,  2.65306122,  2.85714286,\n",
       "        3.06122449,  3.26530612,  3.46938776,  3.67346939,  3.87755102,\n",
       "        4.08163265,  4.28571429,  4.48979592,  4.69387755,  4.89795918,\n",
       "        5.10204082,  5.30612245,  5.51020408,  5.71428571,  5.91836735,\n",
       "        6.12244898,  6.32653061,  6.53061224,  6.73469388,  6.93877551,\n",
       "        7.14285714,  7.34693878,  7.55102041,  7.75510204,  7.95918367,\n",
       "        8.16326531,  8.36734694,  8.57142857,  8.7755102 ,  8.97959184,\n",
       "        9.18367347,  9.3877551 ,  9.59183673,  9.79591837, 10.        ])"
      ]
     },
     "execution_count": 93,
     "metadata": {},
     "output_type": "execute_result"
    }
   ],
   "source": [
    "## linspace() using in Deep Learning \n",
    "np.linspace(0,10,num=50)"
   ]
  },
  {
   "cell_type": "code",
   "execution_count": 95,
   "id": "76556d81-c93b-4431-961a-ed54b51f364f",
   "metadata": {},
   "outputs": [],
   "source": [
    "## Copying Elements within an Array \n",
    "\n",
    "arr = np.array([1,2,3,4,5,6,7,8,9])"
   ]
  },
  {
   "cell_type": "code",
   "execution_count": 97,
   "id": "8185a059-b84e-4a53-bbb7-d73735e207e5",
   "metadata": {},
   "outputs": [
    {
     "data": {
      "text/plain": [
       "array([1, 2, 3, 4, 5, 6, 7, 8, 9])"
      ]
     },
     "execution_count": 97,
     "metadata": {},
     "output_type": "execute_result"
    }
   ],
   "source": [
    "arr"
   ]
  },
  {
   "cell_type": "code",
   "execution_count": 103,
   "id": "e222d84c-a214-40a3-a73a-2038ce89ccc2",
   "metadata": {},
   "outputs": [],
   "source": [
    "# Copy() function and broadcasting\n",
    "arr[2:]= 100"
   ]
  },
  {
   "cell_type": "code",
   "execution_count": 105,
   "id": "fe6ccebc-32c2-4add-99d5-20d027fec9ee",
   "metadata": {},
   "outputs": [
    {
     "data": {
      "text/plain": [
       "array([  1,   2, 100, 100, 100, 100, 100, 100, 100])"
      ]
     },
     "execution_count": 105,
     "metadata": {},
     "output_type": "execute_result"
    }
   ],
   "source": [
    "arr"
   ]
  },
  {
   "cell_type": "code",
   "execution_count": 115,
   "id": "7e3139c6-43f4-48cf-b451-74857eac3455",
   "metadata": {},
   "outputs": [],
   "source": [
    "#Copying array elements to another array \n",
    "\n",
    "#referencing is used, not copied\n",
    "arr1 = arr"
   ]
  },
  {
   "cell_type": "code",
   "execution_count": 117,
   "id": "6f71e42b-295c-4556-8ff4-2f0c927adcc0",
   "metadata": {},
   "outputs": [],
   "source": [
    "arr1[3:]=200"
   ]
  },
  {
   "cell_type": "code",
   "execution_count": 119,
   "id": "ec6b6c07-46a4-4285-8cc1-cb34e20f6d35",
   "metadata": {},
   "outputs": [
    {
     "data": {
      "text/plain": [
       "array([  1,   2, 100, 200, 200, 200, 200, 200, 200])"
      ]
     },
     "execution_count": 119,
     "metadata": {},
     "output_type": "execute_result"
    }
   ],
   "source": [
    "arr1"
   ]
  },
  {
   "cell_type": "code",
   "execution_count": 121,
   "id": "fd782e66-9cfc-4537-9546-d8c9911d1885",
   "metadata": {},
   "outputs": [
    {
     "data": {
      "text/plain": [
       "array([  1,   2, 100, 200, 200, 200, 200, 200, 200])"
      ]
     },
     "execution_count": 121,
     "metadata": {},
     "output_type": "execute_result"
    }
   ],
   "source": [
    "arr"
   ]
  },
  {
   "cell_type": "code",
   "execution_count": 123,
   "id": "7f2678aa-ea11-4dd2-a158-94dd7426789f",
   "metadata": {},
   "outputs": [],
   "source": [
    "arr1=arr.copy()"
   ]
  },
  {
   "cell_type": "code",
   "execution_count": 125,
   "id": "c040eb1e-e93b-424a-9fdd-df03e9eeb814",
   "metadata": {},
   "outputs": [
    {
     "data": {
      "text/plain": [
       "array([  1,   2, 100, 200, 200, 200, 200, 200, 200])"
      ]
     },
     "execution_count": 125,
     "metadata": {},
     "output_type": "execute_result"
    }
   ],
   "source": [
    "arr1"
   ]
  },
  {
   "cell_type": "code",
   "execution_count": 131,
   "id": "cc3ede4f-a513-4109-bc4b-1afe8107b0d0",
   "metadata": {},
   "outputs": [],
   "source": [
    "arr1[3:]=900"
   ]
  },
  {
   "cell_type": "code",
   "execution_count": 133,
   "id": "560f726b-14dd-4ed5-beb6-2b9313cb4ce1",
   "metadata": {},
   "outputs": [
    {
     "data": {
      "text/plain": [
       "array([  1,   2, 100, 900, 900, 900, 900, 900, 900])"
      ]
     },
     "execution_count": 133,
     "metadata": {},
     "output_type": "execute_result"
    }
   ],
   "source": [
    "arr1"
   ]
  },
  {
   "cell_type": "code",
   "execution_count": 135,
   "id": "648f6bb1-0ca7-4f74-ab57-c2f200b4bcf3",
   "metadata": {},
   "outputs": [
    {
     "data": {
      "text/plain": [
       "array([  1,   2, 100, 200, 200, 200, 200, 200, 200])"
      ]
     },
     "execution_count": 135,
     "metadata": {},
     "output_type": "execute_result"
    }
   ],
   "source": [
    "arr"
   ]
  },
  {
   "cell_type": "code",
   "execution_count": 139,
   "id": "803c6eda-0630-4ee2-8259-4c76d272f0b2",
   "metadata": {},
   "outputs": [
    {
     "data": {
      "text/plain": [
       "array([ True, False, False, False, False, False, False, False, False])"
      ]
     },
     "execution_count": 139,
     "metadata": {},
     "output_type": "execute_result"
    }
   ],
   "source": [
    "# Some Conditions Used in Exploratory Data Analysis \n",
    "\n",
    "val = 2 \n",
    "# Checks each element in the array if it is less than 'val' value\n",
    "arr<2"
   ]
  },
  {
   "cell_type": "code",
   "execution_count": 143,
   "id": "0593cc2a-10a1-4021-beb8-a3a62ee0ec4e",
   "metadata": {},
   "outputs": [
    {
     "data": {
      "text/plain": [
       "array([  2,   4, 200, 400, 400, 400, 400, 400, 400])"
      ]
     },
     "execution_count": 143,
     "metadata": {},
     "output_type": "execute_result"
    }
   ],
   "source": [
    "# all elements are multiplied by 2\n",
    "arr*2"
   ]
  },
  {
   "cell_type": "code",
   "execution_count": 145,
   "id": "ad8000c6-59f3-4e24-a4da-a8863bfd981a",
   "metadata": {},
   "outputs": [
    {
     "data": {
      "text/plain": [
       "array([1])"
      ]
     },
     "execution_count": 145,
     "metadata": {},
     "output_type": "execute_result"
    }
   ],
   "source": [
    "# Get values of boolean operations not true or false but actual value \n",
    "\n",
    "arr[arr<2]"
   ]
  },
  {
   "cell_type": "code",
   "execution_count": 149,
   "id": "b3beaa3f-c0b6-4f59-bf11-40eca0d9a950",
   "metadata": {},
   "outputs": [
    {
     "data": {
      "text/plain": [
       "array([1, 1, 1, 1])"
      ]
     },
     "execution_count": 149,
     "metadata": {},
     "output_type": "execute_result"
    }
   ],
   "source": [
    "# ones() function makes all the elements in the array as 1s \n",
    "\n",
    "np.ones(4,dtype=int)"
   ]
  },
  {
   "cell_type": "code",
   "execution_count": 153,
   "id": "0731b002-eebc-458d-8138-20f15ced4778",
   "metadata": {},
   "outputs": [
    {
     "data": {
      "text/plain": [
       "array([[1., 1., 1., 1.],\n",
       "       [1., 1., 1., 1.]])"
      ]
     },
     "execution_count": 153,
     "metadata": {},
     "output_type": "execute_result"
    }
   ],
   "source": [
    "# ones() function makes all the elements in the array as 1s. creating with rows and columns\n",
    "\n",
    "np.ones((2,4), dtype=float)"
   ]
  },
  {
   "cell_type": "code",
   "execution_count": 157,
   "id": "dbf13631-289e-4597-94df-4766c12986e9",
   "metadata": {},
   "outputs": [
    {
     "data": {
      "text/plain": [
       "array([[0.88038529, 0.85339995, 0.87422681, 0.29476895],\n",
       "       [0.92817954, 0.38347487, 0.24732557, 0.50277496],\n",
       "       [0.71625924, 0.53610593, 0.8501741 , 0.79961532]])"
      ]
     },
     "execution_count": 157,
     "metadata": {},
     "output_type": "execute_result"
    }
   ],
   "source": [
    "## random distribution only gives values greater than 0 and less than 1\n",
    "np.random.rand(3,4)"
   ]
  },
  {
   "cell_type": "code",
   "execution_count": 163,
   "id": "d5c07739-b7c5-4dda-af57-1f4c41ff1533",
   "metadata": {},
   "outputs": [],
   "source": [
    "arr_exp = np.random.randn(4,4)"
   ]
  },
  {
   "cell_type": "code",
   "execution_count": 165,
   "id": "f3f35898-1cc4-4f6e-9591-9d8aa0736fbc",
   "metadata": {},
   "outputs": [
    {
     "data": {
      "text/plain": [
       "array([[ 1.60466514, -0.04772882, -0.08073285, -0.61232225],\n",
       "       [ 0.15733496,  0.20838359,  2.30193269,  0.5013279 ],\n",
       "       [ 0.21369866, -1.69048852,  1.55474182,  0.27067413],\n",
       "       [-1.09666917,  2.36559048,  1.37273973,  0.25790977]])"
      ]
     },
     "execution_count": 165,
     "metadata": {},
     "output_type": "execute_result"
    }
   ],
   "source": [
    "arr_exp"
   ]
  },
  {
   "cell_type": "code",
   "execution_count": 171,
   "id": "2834eb40-cc01-4757-ae9e-a0b916912e6a",
   "metadata": {},
   "outputs": [
    {
     "data": {
      "text/plain": [
       "array([[186,   3,  76, 193, 113],\n",
       "       [111,  66,  49, 148, 113]])"
      ]
     },
     "execution_count": 171,
     "metadata": {},
     "output_type": "execute_result"
    }
   ],
   "source": [
    "# Generating random values in int. 3rd parameter is number of elements you want to get \n",
    "#between the range \n",
    "np.random.randint(0,200,10).reshape(2,5)"
   ]
  },
  {
   "cell_type": "code",
   "execution_count": null,
   "id": "c9070296-ef31-48a7-a18f-98ded7b919a5",
   "metadata": {},
   "outputs": [],
   "source": []
  }
 ],
 "metadata": {
  "kernelspec": {
   "display_name": "Python 3 (ipykernel)",
   "language": "python",
   "name": "python3"
  },
  "language_info": {
   "codemirror_mode": {
    "name": "ipython",
    "version": 3
   },
   "file_extension": ".py",
   "mimetype": "text/x-python",
   "name": "python",
   "nbconvert_exporter": "python",
   "pygments_lexer": "ipython3",
   "version": "3.12.4"
  }
 },
 "nbformat": 4,
 "nbformat_minor": 5
}
